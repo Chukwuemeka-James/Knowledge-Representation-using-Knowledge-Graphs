{
  "cells": [
    {
      "cell_type": "markdown",
      "metadata": {},
      "source": [
        "### **Storing Metadata in Graphs: NetworkX vs RDF Triples**\n",
        "\n",
        "When working with knowledge graphs, it’s not enough to store just nodes and edges — you often need to attach additional information to those nodes and relationships. This extra information is called **metadata** (e.g., difficulty level, descriptions, weights).\n",
        "\n",
        "Two common ways to store metadata are:\n",
        "\n",
        "* **Using NetworkX in Python**\n",
        "* **Using RDF Triples in Semantic Web systems**\n"
      ]
    },
    {
      "cell_type": "markdown",
      "metadata": {},
      "source": [
        "### **1. NetworkX Approach**\n",
        "\n",
        "NetworkX allows metadata to be stored directly in a graph using **Python dictionaries**. Each node and edge can have any number of attributes.\n",
        "\n",
        "#### Example:\n",
        "\n",
        "```python\n",
        "topics = {\n",
        "    'python_basics': {\n",
        "        'difficulty': 'beginner',\n",
        "        'description': 'Basic Python concepts'\n",
        "    }\n",
        "}\n",
        "```"
      ]
    },
    {
      "cell_type": "markdown",
      "metadata": {},
      "source": [
        "### Key Characteristics:\n",
        "\n",
        "* Uses flexible key-value pairs\n",
        "* You can quickly add, update, or delete attributes\n",
        "* However, it's not standardized — every developer might structure it differently\n",
        "* Limited to Python; not easily shareable across different tools or platforms\n",
        "\n",
        "### Hands-on: Representing Metadata with NetworkX\n"
      ]
    },
    {
      "cell_type": "code",
      "execution_count": null,
      "metadata": {},
      "outputs": [],
      "source": [
        "import networkx as nx\n",
        "import matplotlib.pyplot as plt\n",
        "\n",
        "# Create a directed graph\n",
        "G = nx.DiGraph()\n",
        "\n",
        "# Define nodes with metadata\n",
        "topics = {\n",
        "    'python_basics': {'difficulty': 'beginner', 'description': 'Basic Python concepts'},\n",
        "    'data_structures': {'difficulty': 'intermediate', 'description': 'Python data structures'},\n",
        "    'advanced_python': {'difficulty': 'advanced', 'description': 'Advanced Python concepts'},\n",
        "    'machine_learning': {'difficulty': 'advanced', 'description': 'Machine Learning with Python'},\n",
        "    'bioimage_analysis': {'difficulty': 'advanced', 'description': 'Bioimage Analysis with Python'}\n",
        "}\n",
        "\n",
        "# Add nodes and attributes to the graph\n",
        "for topic, metadata in topics.items():\n",
        "    G.add_node(topic, **metadata)\n",
        "\n",
        "# Define relationships with weights\n",
        "relationships = [\n",
        "    ('python_basics', 'data_structures', {'weight': 1.0}),\n",
        "    ('data_structures', 'advanced_python', {'weight': 0.8}),\n",
        "    ('advanced_python', 'machine_learning', {'weight': 0.7}),\n",
        "    ('advanced_python', 'bioimage_analysis', {'weight': 0.7})\n",
        "]\n",
        "\n",
        "# Add edges to the graph\n",
        "G.add_edges_from(relationships)"
      ]
    },
    {
      "cell_type": "code",
      "execution_count": 2,
      "metadata": {},
      "outputs": [
        {
          "name": "stdout",
          "output_type": "stream",
          "text": [
            "['python_basics', 'data_structures', 'advanced_python', 'machine_learning', 'bioimage_analysis']\n",
            "[('python_basics', 'data_structures'), ('data_structures', 'advanced_python'), ('advanced_python', 'machine_learning'), ('advanced_python', 'bioimage_analysis')]\n"
          ]
        }
      ],
      "source": [
        "print(G.nodes())             # All nodes\n",
        "print(G.edges())             # All edges"
      ]
    },
    {
      "cell_type": "code",
      "execution_count": 3,
      "metadata": {},
      "outputs": [
        {
          "name": "stdout",
          "output_type": "stream",
          "text": [
            "[('python_basics', {'difficulty': 'beginner', 'description': 'Basic Python concepts'}), ('data_structures', {'difficulty': 'intermediate', 'description': 'Python data structures'}), ('advanced_python', {'difficulty': 'advanced', 'description': 'Advanced Python concepts'}), ('machine_learning', {'difficulty': 'advanced', 'description': 'Machine Learning with Python'}), ('bioimage_analysis', {'difficulty': 'advanced', 'description': 'Bioimage Analysis with Python'})]\n",
            "[('python_basics', 'data_structures', {'weight': 1.0}), ('data_structures', 'advanced_python', {'weight': 0.8}), ('advanced_python', 'machine_learning', {'weight': 0.7}), ('advanced_python', 'bioimage_analysis', {'weight': 0.7})]\n"
          ]
        }
      ],
      "source": [
        "print(G.nodes(data=True))             # All nodes\n",
        "print(G.edges(data=True))             # All edges"
      ]
    },
    {
      "cell_type": "markdown",
      "metadata": {},
      "source": [
        "#### **Query: Shortest path from python_basics to bioimage_analysis**"
      ]
    },
    {
      "cell_type": "code",
      "execution_count": 4,
      "metadata": {},
      "outputs": [
        {
          "name": "stdout",
          "output_type": "stream",
          "text": [
            "Shortest Path: python_basics -> data_structures -> advanced_python -> bioimage_analysis\n"
          ]
        }
      ],
      "source": [
        "# Query: Shortest path from python_basics to bioimage_analysis\n",
        "shortest_path = nx.shortest_path(G, source='python_basics', target='bioimage_analysis')\n",
        "print(\"Shortest Path:\", \" -> \".join(shortest_path))"
      ]
    },
    {
      "cell_type": "markdown",
      "metadata": {},
      "source": [
        "### Visualize the Graph\n"
      ]
    },
    {
      "cell_type": "code",
      "execution_count": 6,
      "metadata": {},
      "outputs": [
        {
          "data": {
            "image/png": "[encoded data removed]",
            "text/plain": [
              "<Figure size 1200x800 with 1 Axes>"
            ]
          },
          "metadata": {},
          "output_type": "display_data"
        }
      ],
      "source": [
        "plt.figure(figsize=(12, 8))\n",
        "pos = nx.spring_layout(G)\n",
        "nx.draw_networkx_nodes(G, pos, node_color='lightblue', node_size=2000)\n",
        "nx.draw_networkx_labels(G, pos)\n",
        "nx.draw_networkx_edges(G, pos, edge_color='gray', arrows=True, arrowsize=40)\n",
        "plt.title(\"Python Learning Path (Matplotlib)\")\n",
        "plt.axis('off')\n",
        "plt.show()"
      ]
    },
    {
      "cell_type": "markdown",
      "metadata": {},
      "source": [
        "### **2. RDF Triples Approach**\n",
        "\n",
        "RDF (Resource Description Framework) is a standard model for data sharing and semantic linking. It uses **triples** of the form:\n",
        "\n",
        "For example:\n",
        "\n",
        "```text\n",
        "(TOPIC.python_basics, PROP.difficulty, \"beginner\")\n",
        "(TOPIC.python_basics, PROP.description, \"Basic Python concepts\")\n",
        "```\n",
        "\n",
        "This structure is used widely in semantic web, ontologies, and systems like **[GraphDB](https://graphdb.ontotext.com/documentation/11.0/index.html),** **[Neo4j (with RDF plugins)](https://neo4j.com/docs/)**, **Amazon Neptune**, and **Apache Jena**.\n"
      ]
    },
    {
      "cell_type": "markdown",
      "metadata": {},
      "source": [
        "### Key Characteristics:\n",
        "\n",
        "* Formal and standardized structure\n",
        "* Interoperable across systems and languages\n",
        "* Supports **reasoning**, **linking to external ontologies**, and **querying with SPARQL**\n",
        "* However, it is more complex to learn and implement\n",
        "* Ideal for large-scale, distributed, or web-based knowledge systems\n"
      ]
    },
    {
      "cell_type": "markdown",
      "metadata": {},
      "source": [
        "### Hands-on: Representing Metadata with RDFLib\n",
        "\n",
        "Before diving into the code, here’s what’s happening conceptually:\n",
        "We will create an **RDF graph** using the `rdflib` Python library. This graph will store information as triples, where:\n",
        "\n",
        "* **Subject** – the resource being described (e.g., a topic like `\"python_basics\"`)\n",
        "* **Predicate** – the property of the resource (e.g., `\"difficulty\"`, `\"requires\"`)\n",
        "* **Object** – the value or linked resource for that property (e.g., `\"beginner\"` or another topic)\n",
        "\n",
        "To do this, we:\n",
        "\n",
        "1. Import `Graph`, `Namespace`, `URIRef`, and `Literal` from `rdflib`.\n",
        "2. Create a `Graph` instance to hold our triples.\n",
        "3. Define a `Namespace` (like a “family name” for our URIs) for all resources in our domain.\n",
        "4. Loop through our topic metadata to add RDF triples to the graph.\n",
        "5. Define relationships between topics (including their weights) and add them as triples."
      ]
    },
    {
      "cell_type": "code",
      "execution_count": null,
      "metadata": {},
      "outputs": [],
      "source": [
        "from rdflib import Graph, Namespace, URIRef, Literal\n",
        "\n",
        "from rdflib.namespace import RDF, RDFS\n",
        "\n",
        "# Create RDF graph and namespace\n",
        "g = Graph()\n",
        "EX = Namespace(\"http://example.org/\")\n",
        "\n",
        "# Define nodes with metadata\n",
        "topics = {\n",
        "    'python_basics': {'difficulty': 'beginner', 'description': 'Basic Python concepts'},\n",
        "    'data_structures': {'difficulty': 'intermediate', 'description': 'Python data structures'},\n",
        "    'advanced_python': {'difficulty': 'advanced', 'description': 'Advanced Python concepts'},\n",
        "    'machine_learning': {'difficulty': 'advanced', 'description': 'Machine Learning with Python'},\n",
        "    'bioimage_analysis': {'difficulty': 'advanced', 'description': 'Bioimage Analysis with Python'}\n",
        "}\n",
        "\n",
        "# Add topics and metadata to RDF graph\n",
        "for topic, metadata in topics.items():\n",
        "    topic_uri = EX[topic]\n",
        "\n",
        "    # Add a triple stating: \"topic_uri has a label of <topic name>\"\n",
        "    # RDFS.label is a standard RDF property for human-readable names\n",
        "    g.add((topic_uri, RDFS.label, Literal(topic)))\n",
        "\n",
        "    # Add a triple stating: \"topic_uri has a difficulty level of <difficulty>\"\n",
        "    # EX.difficulty is our custom property for difficulty levels\n",
        "    g.add((topic_uri, EX.difficulty, Literal(metadata['difficulty'])))\n",
        "\n",
        "     # Add a triple stating: \"topic_uri has a description of <description>\"\n",
        "    # EX.description is our custom property for textual descriptions\n",
        "    g.add((topic_uri, EX.description, Literal(metadata['description'])))"
      ]
    },
    {
      "cell_type": "markdown",
      "metadata": {},
      "source": [
        "### Let's explain the above code and why it is the way it is, but first, let's print the result.\n"
      ]
    },
    {
      "cell_type": "code",
      "execution_count": 17,
      "metadata": {},
      "outputs": [
        {
          "name": "stdout",
          "output_type": "stream",
          "text": [
            "Triples in the RDF graph:\n",
            "\n",
            "Subject: http://example.org/advanced_python\n",
            "Predicate: http://example.org/description\n",
            "Object: Advanced Python concepts\n",
            "Subject: http://example.org/advanced_python\n",
            "Predicate: http://www.w3.org/2000/01/rdf-schema#label\n",
            "Object: advanced_python\n",
            "Subject: http://example.org/data_structures\n",
            "Predicate: http://example.org/description\n",
            "Object: Python data structures\n",
            "Subject: http://example.org/advanced_python\n",
            "Predicate: http://example.org/difficulty\n",
            "Object: advanced\n",
            "Subject: http://example.org/machine_learning\n",
            "Predicate: http://example.org/description\n",
            "Object: Machine Learning with Python\n",
            "Subject: http://example.org/bioimage_analysis\n",
            "Predicate: http://www.w3.org/2000/01/rdf-schema#label\n",
            "Object: bioimage_analysis\n",
            "Subject: http://example.org/bioimage_analysis\n",
            "Predicate: http://example.org/difficulty\n",
            "Object: advanced\n",
            "Subject: http://example.org/bioimage_analysis\n",
            "Predicate: http://example.org/description\n",
            "Object: Bioimage Analysis with Python\n",
            "Subject: http://example.org/python_basics\n",
            "Predicate: http://example.org/difficulty\n",
            "Object: beginner\n",
            "Subject: http://example.org/machine_learning\n",
            "Predicate: http://www.w3.org/2000/01/rdf-schema#label\n",
            "Object: machine_learning\n",
            "Subject: http://example.org/python_basics\n",
            "Predicate: http://www.w3.org/2000/01/rdf-schema#label\n",
            "Object: python_basics\n",
            "Subject: http://example.org/data_structures\n",
            "Predicate: http://www.w3.org/2000/01/rdf-schema#label\n",
            "Object: data_structures\n",
            "Subject: http://example.org/python_basics\n",
            "Predicate: http://example.org/description\n",
            "Object: Basic Python concepts\n",
            "Subject: http://example.org/data_structures\n",
            "Predicate: http://example.org/difficulty\n",
            "Object: intermediate\n",
            "Subject: http://example.org/machine_learning\n",
            "Predicate: http://example.org/difficulty\n",
            "Object: advanced\n"
          ]
        }
      ],
      "source": [
        "print(\"Triples in the RDF graph:\\n\")\n",
        "for subj, pred, obj in g:\n",
        "    print(f\"Subject: {subj}\")\n",
        "    print(f\"Predicate: {pred}\")\n",
        "    print(f\"Object: {obj}\")"
      ]
    },
    {
      "cell_type": "markdown",
      "metadata": {},
      "source": [
        "**Step 1 – Concept table (simplified view)**\n",
        "Think of RDF triples like rows in a table:\n",
        "\n",
        "| Subject        | Predicate   | Object                  |\n",
        "| -------------- | ----------- | ----------------------- |\n",
        "| python\\_basics | label       | \"python\\_basics\"        |\n",
        "| python\\_basics | difficulty  | \"beginner\"              |\n",
        "| python\\_basics | description | \"Basic Python concepts\" |\n",
        "\n",
        "Here,\n",
        "\n",
        "* **Subject** = the thing we’re talking about (`python_basics`)\n",
        "* **Predicate** = the property/relationship (`label`, `difficulty`, `description`)\n",
        "* **Object** = the value or another resource\n",
        "\n",
        "**Step 2 – How it looks in actual RDF output (full URIs)**\n",
        "When stored in an RDF graph, these identifiers usually become full URLs for clarity and uniqueness:\n",
        "\n",
        "```\n",
        "Subject: http://example.org/advanced_python\n",
        "Predicate: http://example.org/description\n",
        "Object: Advanced Python concepts\n",
        "\n",
        "Subject: http://example.org/advanced_python\n",
        "Predicate: http://www.w3.org/2000/01/rdf-schema#label\n",
        "Object: advanced_python\n",
        "\n",
        "Subject: http://example.org/advanced_python\n",
        "Predicate: http://example.org/difficulty\n",
        "Object: advanced\n",
        "```\n",
        "\n",
        "The meaning is **exactly the same** as the table above — the only difference is that RDF prefers globally unique identifiers (URIs) instead of plain words, so no two datasets accidentally collide."
      ]
    },
    {
      "cell_type": "code",
      "execution_count": null,
      "metadata": {},
      "outputs": [],
      "source": [
        "relationships_with_weights = [\n",
        "    ('python_basics', 'data_structures', 1.0),\n",
        "    ('data_structures', 'advanced_python', 0.8),\n",
        "    ('advanced_python', 'machine_learning', 0.7),\n",
        "    ('advanced_python', 'bioimage_analysis', 0.7)\n",
        "]\n"
      ]
    },
    {
      "cell_type": "markdown",
      "metadata": {},
      "source": [
        "### Add Relationships as RDF Triples\n"
      ]
    },
    {
      "cell_type": "code",
      "execution_count": 21,
      "metadata": {},
      "outputs": [
        {
          "name": "stdout",
          "output_type": "stream",
          "text": [
            "python_basics -- requires --> data_structures [weight: 1.0]\n",
            "data_structures -- requires --> advanced_python [weight: 0.8]\n",
            "advanced_python -- requires --> machine_learning [weight: 0.7]\n",
            "advanced_python -- requires --> bioimage_analysis [weight: 0.7]\n"
          ]
        }
      ],
      "source": [
        "for src, tgt, weight in relationships_with_weights:\n",
        "    g.add((EX[src], EX.requires, EX[tgt]))\n",
        "    g.add((EX[src], EX[f'weight_{tgt}'], Literal(weight)))\n",
        "    \n",
        "    # Print human-friendly version\n",
        "    print(f\"{src} -- requires --> {tgt} [weight: {weight}]\")"
      ]
    },
    {
      "cell_type": "markdown",
      "metadata": {},
      "source": [
        "### Example Query: Retrieve Required Topics and Weights\n"
      ]
    },
    {
      "cell_type": "code",
      "execution_count": null,
      "metadata": {},
      "outputs": [],
      "source": [
        "query_weights = \"\"\"\n",
        "PREFIX ex: <http://example.org/>\n",
        "SELECT ?topic ?weight WHERE {\n",
        "    ex:python_basics ex:requires ?topic .\n",
        "    ex:python_basics ex:weight_data_structures ?weight .\n",
        "}\n",
        "\"\"\""
      ]
    },
    {
      "cell_type": "markdown",
      "metadata": {},
      "source": [
        "### **Explaining the above lines**\n",
        "\n",
        "`ex:python_basics ex:requires ?topic .`: “Find whatever thing python_basics requires, and call that thing ?topic.”\n",
        "\n",
        "`ex:python_basics ex:weight_data_structures ?weight .`: “Find the value of weight_data_structures for python_basics and store it in ?weight.”"
      ]
    },
    {
      "cell_type": "code",
      "execution_count": 12,
      "metadata": {},
      "outputs": [
        {
          "name": "stdout",
          "output_type": "stream",
          "text": [
            "----------------------------------------\n",
            "Weights for topics that python_basics requires:\n",
            "Topic: http://example.org/data_structures, Weight: 1.0\n"
          ]
        }
      ],
      "source": [
        "print(\"Weights for topics that python_basics requires:\")\n",
        "for row in g.query(query_weights):\n",
        "    print(f\"Topic: {row.topic}, Weight: {row.weight}\")    "
      ]
    },
    {
      "cell_type": "markdown",
      "metadata": {},
      "source": [
        "### View the RDF Graph as Turtle\n"
      ]
    },
    {
      "cell_type": "code",
      "execution_count": 13,
      "metadata": {},
      "outputs": [
        {
          "name": "stdout",
          "output_type": "stream",
          "text": [
            "\n",
            "RDF Graph (Turtle Format):\n",
            "@prefix ns1: <http://example.org/> .\n",
            "@prefix rdfs: <http://www.w3.org/2000/01/rdf-schema#> .\n",
            "@prefix xsd: <http://www.w3.org/2001/XMLSchema#> .\n",
            "\n",
            "ns1:python_basics rdfs:label \"python_basics\" ;\n",
            "    ns1:description \"Basic Python concepts\" ;\n",
            "    ns1:difficulty \"beginner\" ;\n",
            "    ns1:requires ns1:data_structures ;\n",
            "    ns1:weight_data_structures 1e+00 .\n",
            "\n",
            "ns1:advanced_python rdfs:label \"advanced_python\" ;\n",
            "    ns1:description \"Advanced Python concepts\" ;\n",
            "    ns1:difficulty \"advanced\" ;\n",
            "    ns1:requires ns1:bioimage_analysis,\n",
            "        ns1:machine_learning ;\n",
            "    ns1:weight_bioimage_analysis 7e-01 ;\n",
            "    ns1:weight_machine_learning 7e-01 .\n",
            "\n",
            "ns1:bioimage_analysis rdfs:label \"bioimage_analysis\" ;\n",
            "    ns1:description \"Bioimage Analysis with Python\" ;\n",
            "    ns1:difficulty \"advanced\" .\n",
            "\n",
            "ns1:data_structures rdfs:label \"data_structures\" ;\n",
            "    ns1:description \"Python data structures\" ;\n",
            "    ns1:difficulty \"intermediate\" ;\n",
            "    ns1:requires ns1:advanced_python ;\n",
            "    ns1:weight_advanced_python 8e-01 .\n",
            "\n",
            "ns1:machine_learning rdfs:label \"machine_learning\" ;\n",
            "    ns1:description \"Machine Learning with Python\" ;\n",
            "    ns1:difficulty \"advanced\" .\n",
            "\n",
            "\n"
          ]
        }
      ],
      "source": [
        "print(\"\\nRDF Graph (Turtle Format):\")\n",
        "print(g.serialize(format=\"turtle\"))\n"
      ]
    },
    {
      "cell_type": "markdown",
      "metadata": {
        "id": "ZeGk7M_63rQp"
      },
      "source": [
        "##### **Explanation:**\n",
        "\n",
        "* `g.serialize(format=\"turtle\")` converts the in-memory RDF graph (`g`) into a **Turtle format string**.\n",
        "* **Turtle** (Terse RDF Triple Language) is a human-friendly syntax for RDF — it’s easier to read than raw RDF/XML or N-Triples.\n",
        "* This printout shows all the triples currently stored in your graph, grouped by subject, and using prefixes for brevity (like `ns1:` instead of the full URI).\n",
        "\n",
        "**In the output you pasted:**\n",
        "\n",
        "* **`@prefix` lines** define namespace shortcuts:\n",
        "\n",
        "  * `ns1:` → `http://example.org/`\n",
        "  * `rdfs:` → RDF Schema vocabulary (for labels, comments, etc.)\n",
        "  * `xsd:` → XML Schema datatypes (for literals like numbers, dates, etc.)\n",
        "* **Each block** starts with a subject (e.g., `ns1:python_basics`) followed by predicates and their objects.\n",
        "* Example:\n",
        "\n",
        "  ```turtle\n",
        "  ns1:python_basics rdfs:label \"python_basics\" ;\n",
        "      ns1:description \"Basic Python concepts\" ;\n",
        "      ns1:difficulty \"beginner\" ;\n",
        "      ns1:requires ns1:data_structures ;\n",
        "      ns1:weight_data_structures 1e+00 .\n",
        "  ```\n",
        "\n",
        "  means:\n",
        "\n",
        "  The thing identified by `ns1:python_basics`\n",
        "\n",
        "     * has the label `\"python_basics\"`\n",
        "     * has description `\"Basic Python concepts\"`\n",
        "     * has difficulty `\"beginner\"`\n",
        "     * requires the resource `ns1:data_structures`\n",
        "     * has a weight of `1.0` for `data_structures`."
      ]
    },
    {
      "cell_type": "markdown",
      "metadata": {
        "id": "3kd_1fqenxfc"
      },
      "source": [
        "### **Conclusion**\n",
        "\n",
        "In the above notebook, we've explored how to build, enrich, analyze, and represent knowledge graphs using both **NetworkX** and **RDF triples**.\n",
        "\n",
        "We began with the Pythonic approach using NetworkX, leveraging intuitive data structures like dictionaries to store metadata and relationships. This approach is ideal for fast prototyping, algorithm experimentation, and visualization within Python.\n",
        "\n",
        "Then, we introduced **RDF triples**, a more formal and standardized way to represent knowledge. Using the **Turtle format**, we expressed metadata and relationships using a subject-predicate-object structure. This enables interoperability, semantic reasoning, and integration with web-based knowledge systems.\n",
        "\n",
        "The final RDF graph captures not only the relationships between topics but also descriptive metadata and weights, all expressed using compact, readable prefixes. This structure lays the foundation for **semantic search**, **linked data**, and **ontology-driven AI systems**."
      ]
    },
    {
      "cell_type": "markdown",
      "metadata": {},
      "source": [
        "### **Complete KG playlist:**\n",
        "[**DigitalSreeni YouTube Playlist**](https://youtube.com/playlist?list=PLZsOBAyNTZwacEFVI8yo5o-1rZasRqm18&si=l_6g-_QmIud5h1Kk) – for providing an excellent set of biomedical imaging tutorials that were used in the recommender system example.\n"
      ]
    },
    {
      "cell_type": "code",
      "execution_count": null,
      "metadata": {},
      "outputs": [],
      "source": []
    }
  ],
  "metadata": {
    "colab": {
      "authorship_tag": "ABX9TyNAwgeTovdaSb8C63uqnJZx",
      "include_colab_link": true,
      "provenance": []
    },
    "kernelspec": {
      "display_name": ".venv (3.10.12)",
      "language": "python",
      "name": "python3"
    },
    "language_info": {
      "codemirror_mode": {
        "name": "ipython",
        "version": 3
      },
      "file_extension": ".py",
      "mimetype": "text/x-python",
      "name": "python",
      "nbconvert_exporter": "python",
      "pygments_lexer": "ipython3",
      "version": "3.10.12"
    }
  },
  "nbformat": 4,
  "nbformat_minor": 0
}
