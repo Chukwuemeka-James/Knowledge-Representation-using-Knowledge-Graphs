{
 "cells": [
  {
   "cell_type": "markdown",
   "id": "012570f6",
   "metadata": {},
   "source": [
    "## **Building a Recommender System & Educational Knowledge Graph with LLMs**\n",
    "\n",
    "In the final video of this series, you'll explore a powerful application of **Large Language Models (LLMs)** and **semantic embeddings** for building an intelligent **Educational Knowledge Graph and Recommender System**. This project blends classical recommender approaches with cutting-edge AI tools to deliver personalized and concept-aware learning experiences."
   ]
  },
  {
   "cell_type": "markdown",
   "id": "68607ba7",
   "metadata": {},
   "source": [
    "### Overview of What You’ll Learn\n",
    "\n",
    "* **Two-Stage Recommendation Pipeline**\n",
    "  First, a traditional recall-based system (like matrix factorization) suggests likely content. Then, an **LLM-based ranker** refines the list using prompt-driven evaluation, prioritizing videos the user is most likely to engage with.\n",
    "\n",
    "* **Knowledge Graph Construction**\n",
    "  The system extracts structured information from video metadata: topics, prerequisites, learning outcomes, and difficulty levels. Using these, it builds a **NetworkX-based graph** where nodes represent videos and edges capture relationships like prerequisite dependencies or topic overlap.\n",
    "\n",
    "* **Concept Relationships & Connections**\n",
    "  Three main types of connections are established: (1) Shared topic-based similarity, (2) Explicit prerequisite mapping, and (3) LLM-derived conceptual relations. These combine to support logical and content-aware video navigation.\n",
    "\n",
    "* **Embeddings & Semantic Search**\n",
    "  Using **sentence-transformers**, the project generates vector embeddings that capture the semantic meaning of each video. This allows for **semantic search**—finding relevant content even if the user’s keywords don’t exactly match the video metadata.\n",
    "\n",
    "* **Personalized Learning Paths**\n",
    "  By combining graph traversal and LLM reasoning, the system can generate both **linear learning paths** and **concept-based journeys** tailored to specific educational goals, such as “Mastering Medical Image Segmentation.”\n",
    "\n",
    "* **Interactive Visualizations**\n",
    "  Visualize the graph and topic relationships using **PyVis**, enabling users to explore the content structure dynamically.\n",
    "\n",
    "* **Efficient Querying**\n",
    "  A flexible query engine handles user requests in three tiers: (1) Embedding similarity, (2) LLM-based concept expansion, and (3) Pattern matching fallback—ensuring robustness even in complex queries."
   ]
  },
  {
   "cell_type": "markdown",
   "id": "f6f5cca3",
   "metadata": {},
   "source": [
    "### What You’ll Practice\n",
    "\n",
    "* Initializing and running **Mistral LLM** via `llama-cpp-python` on Colab\n",
    "* Extracting structured knowledge from video CSVs\n",
    "* Building and saving a complete **educational graph system**\n",
    "* Creating a real-world **semantic search + LLM ranking system**\n",
    "* Designing intelligent **learning journeys** powered by AI"
   ]
  },
  {
   "cell_type": "markdown",
   "id": "c5119a40",
   "metadata": {},
   "source": [
    "### Access the Materials\n",
    "\n",
    "**Watch the final video here:**\n",
    "[Recommender System for DigitalSreeni LLM (YouTube)](https://www.youtube.com/watch?v=kWwLVwNwW1k&list=PLZsOBAyNTZwacEFVI8yo5o-1rZasRqm18)\n",
    "\n",
    "**My own notebook from the above:**\n",
    "[LLM_powered_Recommender_System_KG.ipynb](https://colab.research.google.com/drive/1SkGQ_1AQ0ehccjkooikQFV8Jwf1qu-8Z#scrollTo=ypyVWqJQV2DU)\n",
    "\n",
    "**Explore the notebook from DigitalSreeni's YouTube channel:**\n",
    "[GitHub - 358\\_recommender\\_system\\_for\\_digitalsreeni\\_LLM.ipynb](https://github.com/bnsreenu/python_for_microscopists/blob/master/358_recommender_system_for_digitalsreeni_LLM.ipynb)\n"
   ]
  },
  {
   "cell_type": "markdown",
   "id": "2d00992a",
   "metadata": {},
   "source": [
    "### **Complete KG playlist:**\n",
    "[**DigitalSreeni YouTube Playlist**](https://youtube.com/playlist?list=PLZsOBAyNTZwacEFVI8yo5o-1rZasRqm18&si=l_6g-_QmIud5h1Kk) – for providing an excellent set of biomedical imaging tutorials that were used in the recommender system example.\n"
   ]
  },
  {
   "cell_type": "code",
   "execution_count": null,
   "id": "89d149bf",
   "metadata": {},
   "outputs": [],
   "source": []
  }
 ],
 "metadata": {
  "kernelspec": {
   "display_name": ".venv (3.10.12)",
   "language": "python",
   "name": "python3"
  },
  "language_info": {
   "name": "python",
   "version": "3.10.12"
  }
 },
 "nbformat": 4,
 "nbformat_minor": 5
}
