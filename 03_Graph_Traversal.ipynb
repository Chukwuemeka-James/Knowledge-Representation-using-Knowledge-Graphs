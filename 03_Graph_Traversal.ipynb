{
 "cells": [
  {
   "cell_type": "markdown",
   "id": "4efa1510",
   "metadata": {},
   "source": [
    "## **Graph Representation and Graph Traversal**\n",
    "\n",
    "Before we can traverse or perform operations on graphs, we need to decide **how to represent them in memory**. The choice of representation affects the **performance**, **ease of use**, and **space complexity** of the algorithms we apply.\n",
    "\n",
    "> ##### **For more understanding on Graphs theory checkout this material: https://www.cs.princeton.edu/~wayne/kleinberg-tardos/pdf/03Graphs.pdf**\n",
    "\n",
    "There are three primary ways to represent a graph:\n",
    "\n",
    "---\n",
    "\n",
    "### 1. **Adjacency List**\n",
    "\n",
    "An **Adjacency List** represents a graph as a **list (or map)** where each vertex has a list of its **adjacent vertices (neighbors)**.\n",
    "\n",
    "#### Structure\n",
    "\n",
    "* For **each node**, store a list (array, vector, or linked list) of nodes it connects to.\n",
    "* Efficient for **sparse graphs** (graphs with relatively few edges).\n",
    "\n",
    "#### Example"
   ]
  },
  {
   "cell_type": "markdown",
   "id": "047ee6c1",
   "metadata": {},
   "source": [
    "Undirected Graph:\n",
    "\n",
    "```example\n",
    "A -- B\n",
    "|    |\n",
    "C -- D\n",
    "```\n",
    "\n",
    "Adjacency List:\n",
    "\n",
    "```plaintext\n",
    "A → B, C  \n",
    "B → A, D  \n",
    "C → A, D  \n",
    "D → B, C\n",
    "```"
   ]
  },
  {
   "cell_type": "markdown",
   "id": "c27a0ce6",
   "metadata": {},
   "source": [
    "### Time & Space Complexity (with full meanings)\n",
    "\n",
    "| Operation                    | Complexity   |\n",
    "| ---------------------------- | ------------ |\n",
    "| Space                        | O(V + E)     |\n",
    "| Add edge                     | O(1)         |\n",
    "| Check if edge exists (u→v)   | O(degree(u)) |\n",
    "| Traverse neighbors of node u | O(degree(u)) |\n",
    "\n",
    "**Where:**\n",
    "\n",
    "* `O(...)` = \"Big O Notation\", describing how performance scales with input size\n",
    "* `V` = number of **vertices** (nodes) in the graph\n",
    "* `E` = number of **edges** (connections between nodes)\n",
    "* `degree(u)` = number of edges connected to vertex `u` (i.e., its neighbors)\n",
    "* `u → v` = edge going from vertex `u` to vertex `v` (in a directed graph)\n",
    "\n",
    "---\n",
    "\n",
    "### Pros and Cons (explained)\n",
    "\n",
    "**Pros:**\n",
    "\n",
    "* **Space efficient for sparse graphs**\n",
    "  → Uses less memory when the number of edges is much smaller than `V²`\n",
    "* **Easy to iterate neighbors**\n",
    "  → Direct access to the neighbors of a node without scanning unrelated nodes\n",
    "\n",
    "**Cons:**\n",
    "\n",
    "* **Slower edge lookup for dense graphs**\n",
    "  → To check if `u → v` exists, we may have to search through the entire neighbor list of `u`"
   ]
  },
  {
   "cell_type": "code",
   "execution_count": null,
   "id": "28347dd6",
   "metadata": {},
   "outputs": [],
   "source": []
  },
  {
   "cell_type": "markdown",
   "id": "e4f0dd14",
   "metadata": {},
   "source": [
    "### 2. **Adjacency Matrix**\n",
    "\n",
    "An **Adjacency Matrix** uses a **2D array (V × V)** where each cell `(i, j)` indicates whether there is an edge between vertex `i` and vertex `j`.\n",
    "\n",
    "#### Structure\n",
    "\n",
    "* Typically:\n",
    "\n",
    "  * `matrix[i][j] = 1` → edge exists\n",
    "  * `matrix[i][j] = 0` → no edge\n",
    "* Can be extended to **weighted graphs** (use actual weights instead of 1).\n",
    "\n",
    "#### Example\n",
    "\n",
    "Same graph:"
   ]
  },
  {
   "cell_type": "markdown",
   "id": "b358a00d",
   "metadata": {},
   "source": [
    "```ab\n",
    "Vertices: A, B, C, D  \n",
    "Order: A=0, B=1, C=2, D=3\n",
    "```\n",
    "\n",
    "Adjacency Matrix:\n",
    "\n",
    "```ab\n",
    "    A B C D\n",
    "A [ 0 1 1 0 ]\n",
    "B [ 1 0 0 1 ]\n",
    "C [ 1 0 0 1 ]\n",
    "D [ 0 1 1 0 ]\n",
    "```"
   ]
  },
  {
   "cell_type": "code",
   "execution_count": null,
   "id": "42f02196",
   "metadata": {},
   "outputs": [],
   "source": []
  },
  {
   "cell_type": "markdown",
   "id": "ab5ad55a",
   "metadata": {},
   "source": [
    "#### Time & Space Complexity\n",
    "\n",
    "| Operation                    | Complexity |\n",
    "| ---------------------------- | ---------- |\n",
    "| Space                        | O(V²)      |\n",
    "| Add edge                     | O(1)       |\n",
    "| Check if edge exists (u→v)   | O(1)       |\n",
    "| Traverse neighbors of node u | O(V)       |\n",
    "\n",
    "#### Pros and Cons\n",
    "\n",
    "Pros:\n",
    "\n",
    "* Fast edge lookup\n",
    "* Easy for dense graphs\n",
    "* Simple to implement\n",
    "\n",
    "Cons:\n",
    "\n",
    "* Wastes space for sparse graphs\n"
   ]
  },
  {
   "cell_type": "markdown",
   "id": "933ef26a",
   "metadata": {},
   "source": [
    "### 3. **Edge List**\n",
    "\n",
    "An **Edge List** stores the graph as a simple **list of edges**. Each edge is a pair (or triplet for weighted graphs).\n",
    "\n",
    "#### Structure\n",
    "\n",
    "* Each edge is a tuple:\n",
    "\n",
    "  * Unweighted: `(u, v)`\n",
    "  * Weighted: `(u, v, weight)`\n",
    "\n",
    "#### Example"
   ]
  },
  {
   "cell_type": "markdown",
   "id": "4d9487a6",
   "metadata": {},
   "source": [
    "Unweighted Edge List:\n",
    "\n",
    "```abc\n",
    "(A, B)\n",
    "(A, C)\n",
    "(B, D)\n",
    "(C, D)\n",
    "```\n",
    "\n",
    "Weighted Edge List:\n",
    "\n",
    "```abc\n",
    "(A, B, 3)\n",
    "(B, D, 5)\n",
    "```"
   ]
  },
  {
   "cell_type": "markdown",
   "id": "3afc4224",
   "metadata": {},
   "source": [
    "#### When to Use Which Representation?\n",
    "\n",
    "| Use Case                            | Best Representation                             |\n",
    "| ----------------------------------- | ----------------------------------------------- |\n",
    "| Sparse graph                        | Adjacency List                                  |\n",
    "| Dense graph                         | Adjacency Matrix                                |\n",
    "| Graph with frequent edge checks     | Adjacency Matrix                                |\n",
    "| Graph used in edge-based algorithms | Edge List                                       |\n",
    "| Memory-sensitive application        | Adjacency List or Edge List (for sparse graphs) |\n"
   ]
  },
  {
   "cell_type": "code",
   "execution_count": null,
   "id": "47219069",
   "metadata": {},
   "outputs": [],
   "source": []
  },
  {
   "cell_type": "markdown",
   "id": "4a32e522",
   "metadata": {},
   "source": [
    "#### Summary Table\n",
    "\n",
    "| Feature           | Adjacency List | Adjacency Matrix | Edge List |\n",
    "| ----------------- | -------------- | ---------------- | --------- |\n",
    "| Space Complexity  | O(V + E)       | O(V²)            | O(E)      |\n",
    "| Edge Lookup       | O(degree)      | O(1)             | O(E)      |\n",
    "| Good for Sparse?  | ✅              | ❌                | ✅         |\n",
    "| Good for Dense?   | ❌              | ✅                | ❌         |\n",
    "| Easy to implement | ✅              | ✅                | ✅         |"
   ]
  },
  {
   "cell_type": "code",
   "execution_count": null,
   "id": "bd8b2bbe",
   "metadata": {},
   "outputs": [],
   "source": []
  },
  {
   "cell_type": "markdown",
   "id": "187219f8",
   "metadata": {},
   "source": [
    "## **Understanding Graph Traversal**\n",
    "\n",
    "**Graph Traversal** refers to the process of **systematically visiting** vertices (and edges) in a graph. It's essential to mark each vertex as **discovered** to avoid infinite loops, especially when cycles are present ([1]).\n"
   ]
  },
  {
   "cell_type": "markdown",
   "id": "27fed701",
   "metadata": {},
   "source": [
    "Once we understand that graph traversal is about systematically visiting vertices, the next question becomes: **how should we visit them?** There are two primary strategies — one explores broadly before diving deep, and the other dives deep before stepping back. These are known as: \n",
    "- **Breadth-First Search (BFS)** and \n",
    "- **Depth-First Search (DFS)**, \n",
    "\n",
    "and each follows a distinct pattern of exploration with different strengths and use cases.\n",
    "\n",
    "![Image](https://miro.medium.com/v2/resize:fit:720/format:webp/1*VM84VPcCQe0gSy44l9S5yA.jpeg)\n",
    "\n",
    "> ### You may find this Medium post very helpful: [Vaidehi Joshi](https://medium.com/basecs/breaking-down-breadth-first-search-cebe696709d9)\n",
    "\n",
    "> ### Detailed video on DFS and BFS: [Abdul Bari](https://youtu.be/pcKY4hjDrxk?si=Bdh5ODhvCTZDP-KM)"
   ]
  },
  {
   "cell_type": "markdown",
   "id": "923d2713",
   "metadata": {},
   "source": [
    "### **1. Breadth‑First Search (BFS)**\n",
    "\n",
    "* BFS visits nodes **level by level**, starting from a source node and exploring all its immediate neighbors before moving deeper ([HackerEarth][2], [Wikipedia][3]).\n",
    "\n",
    "### Pseudocode\n",
    "\n",
    "```python\n",
    "procedure BFS(G, root):\n",
    "    let Q be a queue\n",
    "    mark root as visited\n",
    "    enqueue root into Q\n",
    "    while Q is not empty:\n",
    "        v := dequeue Q\n",
    "        for each neighbor w of v:\n",
    "            if w is not visited:\n",
    "                mark w visited\n",
    "                set w.parent = v\n",
    "                enqueue w\n",
    "```\n",
    "\n",
    "This ensures the shortest path is found in **unweighted graphs** ([3],[4]).\n"
   ]
  },
  {
   "cell_type": "markdown",
   "id": "ecd0f776",
   "metadata": {},
   "source": [
    "### Complexity\n",
    "\n",
    "* **Time Complexity**: O(|V| + |E|) — each vertex and edge is visited at most once ([visualgo.net][5], [Wikipedia][3]).\n",
    "* **Space Complexity**: O(|V|) for storing the queue and visited markers.\n",
    "\n",
    "### Applications\n",
    "\n",
    "* Ideal for finding **shortest paths** in unweighted graphs.\n",
    "* Useful for layer-by-layer exploration tasks—like market navigation or networking hops.\n",
    "* Forms the basis for algorithms like Dijkstra's (on unweighted graphs), bipartite checking, and web crawling ([Memgraph][6], [GeeksforGeeks][7]).\n"
   ]
  },
  {
   "cell_type": "markdown",
   "id": "b9480390",
   "metadata": {},
   "source": [
    "### **2. Depth‑First Search (DFS)**\n",
    "\n",
    "* DFS dives deep into one branch, exploring as far as possible before backtracking ([Wikipedia][8]).\n",
    "* It explores deep paths one at a time, often implemented using recursion or a stack.\n",
    "\n",
    "### Pseudocode (Recursive)\n",
    "\n",
    "```python\n",
    "procedure DFS(G, v):\n",
    "    mark v as visited\n",
    "    for each neighbor w of v:\n",
    "        if w is not visited:\n",
    "            recursively call DFS(G, w)\n",
    "```"
   ]
  },
  {
   "cell_type": "markdown",
   "id": "b8a28894",
   "metadata": {},
   "source": [
    "### Pseudocode (Iterative using stack)\n",
    "\n",
    "```python\n",
    "procedure DFS_iterative(G, v):\n",
    "    initialize empty stack S\n",
    "    S.push(v)\n",
    "    while S is not empty:\n",
    "        v := S.pop()\n",
    "        if v not visited:\n",
    "            mark v visited\n",
    "            for each neighbor w of v:\n",
    "                S.push(w)\n",
    "```\n",
    "\n",
    "Note: The recursive and iterative versions may visit nodes in different orders depending on neighbor processing ([Wikipedia][8]).\n"
   ]
  },
  {
   "cell_type": "markdown",
   "id": "634798a8",
   "metadata": {},
   "source": [
    "### Complexity\n",
    "\n",
    "* **Time Complexity**: O(|V| + |E|), similarly efficient ([Wikipedia][8]).\n",
    "* **Space Complexity**: O(|V|) due to the recursion stack or explicit stack.\n",
    "\n",
    "### Properties & Use Cases\n",
    "\n",
    "* **Not guaranteed to find shortest paths** — not optimal for unweighted path queries ([Wikipedia][8]).\n",
    "* Excellent for tasks like:\n",
    "\n",
    "  * **Cycle detection**, especially in directed graphs (detecting back‐edges during recursion) ([Stack Overflow][9]).\n",
    "  * **Topological sorting**, **connected component identification**, and **maze solving** ([visualgo.net][5], [GeeksforGeeks][10]).\n"
   ]
  },
  {
   "cell_type": "code",
   "execution_count": null,
   "id": "b3f071b1",
   "metadata": {},
   "outputs": [],
   "source": []
  },
  {
   "cell_type": "markdown",
   "id": "2178a7c2",
   "metadata": {},
   "source": [
    "### **Comparing BFS vs. DFS**\n",
    "\n",
    "| Feature              | BFS                                                   | DFS                                                                         |\n",
    "| -------------------- | ----------------------------------------------------- | --------------------------------------------------------------------------- |\n",
    "| Exploration Strategy | Level-by-level (breadth-first)                        | Depth-first (branch-by-branch)                                              |\n",
    "| Data Structure       | Queue (FIFO)                                          | Stack (LIFO) or recursion                                                   |\n",
    "| Finds Shortest Path? | Yes (in unweighted graphs)                            | No                                                                          |\n",
    "| Completeness         | Yes (in finite graphs)                                | Yes (in finite); risk of infinite loops in infinite graphs ([8]) |\n",
    "| Typical Uses         | Shortest paths, bipartite check, connected components | Cycle detection, maze solving, topological sort                             |\n"
   ]
  },
  {
   "cell_type": "markdown",
   "id": "e7a09b48",
   "metadata": {},
   "source": [
    "### **Layered Vertex States (Optional Enhancement)**\n",
    "\n",
    "A commonly taught model (in some textbooks like CLRS) describes vertices transitioning through three states during traversal:\n",
    "\n",
    "1. **Undiscovered (White)**\n",
    "2. **Discovered but not fully explored (Gray)**\n",
    "3. **Fully explored (Black)**\n",
    "\n",
    "This helps clarify the notions of \"exploration vertex\" (currently processing, gray) versus a “visited/completed vertex” (fully explored, black) ([11]).\n"
   ]
  },
  {
   "cell_type": "markdown",
   "id": "14c11eea",
   "metadata": {},
   "source": [
    "### **Local Teaching Analogy (Optional)**\n",
    "\n",
    "* **BFS Analogy**: Exploring all stalls in one row of Balogun Market before moving to the next row.\n",
    "* **DFS Analogy**: Entering one alley, exploring all the inner stalls before backtracking and entering the next alley.\n",
    "\n",
    "---\n",
    "\n",
    "## Credits and References\n",
    "\n",
    "* BFS and DFS fundamentals and pseudocode: Wikipedia, GeeksforGeeks, HackerEarth ([Wikipedia][3], [GeeksforGeeks][7], [Olivia A. Gallucci][4]).\n",
    "* State labeling (White/Gray/Black): Lecture notes adapted from CLRS-based material ([Tilde Sites][11]).\n",
    "\n",
    "---\n",
    "\n",
    "[1]: https://en.wikipedia.org/wiki/Graph_traversal?utm_source=chatgpt.com \"Graph traversal\"\n",
    "[2]: https://www.hackerearth.com/practice/algorithms/graphs/breadth-first-search/tutorial/?utm_source=chatgpt.com \"Breadth First Search Tutorials & Notes | Algorithms - HackerEarth\"\n",
    "[3]: https://en.wikipedia.org/wiki/Breadth-first_search?utm_source=chatgpt.com \"Breadth-first search\"\n",
    "[4]: https://oliviagallucci.com/graph-algorithm-basics-bfs-and-dfs/?utm_source=chatgpt.com \"Graph Algorithm Basics, BFS, and DFS - Olivia A. Gallucci\"\n",
    "[5]: https://visualgo.net/en/dfsbfs?utm_source=chatgpt.com \"Graph Traversal (Depth/Breadth First Search) - VisuAlgo\"\n",
    "[6]: https://memgraph.com/blog/graph-search-algorithms-developers-guide?utm_source=chatgpt.com \"Graph Search Algorithms: Developer's Guide - Memgraph\"\n",
    "[7]: https://www.geeksforgeeks.org/dsa/breadth-first-search-or-bfs-for-a-graph/?utm_source=chatgpt.com \"Breadth First Search or BFS for a Graph - GeeksforGeeks\"\n",
    "[8]: https://en.wikipedia.org/wiki/Depth-first_search?utm_source=chatgpt.com \"Depth-first search\"\n",
    "[9]: https://stackoverflow.com/questions/2869647/why-dfs-and-not-bfs-for-finding-cycle-in-graphs?utm_source=chatgpt.com \"Why DFS and not BFS for finding cycle in graphs - Stack Overflow\"\n",
    "[10]: https://www.geeksforgeeks.org/dsa/depth-first-search-or-dfs-for-a-graph/?utm_source=chatgpt.com \"Depth First Search or DFS for a Graph - GeeksforGeeks\"\n",
    "[11]: https://tildesites.bowdoin.edu/~ltoma/teaching/cs231/fall15/Lectures/10-bfsdfs/bfsdfs.pdf?utm_source=chatgpt.com \"[PDF] Traversing a graph: BFS and DFS\"\n"
   ]
  },
  {
   "cell_type": "code",
   "execution_count": null,
   "id": "1f5cd192",
   "metadata": {},
   "outputs": [],
   "source": []
  }
 ],
 "metadata": {
  "kernelspec": {
   "display_name": "Python 3",
   "language": "python",
   "name": "python3"
  },
  "language_info": {
   "name": "python",
   "version": "3.10.12"
  }
 },
 "nbformat": 4,
 "nbformat_minor": 5
}
