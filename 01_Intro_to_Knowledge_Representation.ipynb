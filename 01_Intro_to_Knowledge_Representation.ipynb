{
 "cells": [
  {
   "cell_type": "markdown",
   "id": "f0f513d2",
   "metadata": {},
   "source": [
    "## **Introduction to Knowledge Representation in AI**\n",
    "\n",
    "### What Is Knowledge Representation (KR)?\n",
    "\n",
    "* KR is the process of **structuring information so machines can reason, infer, and act** using it. Essentially, it **bridges raw data with intelligent behavior** ([UpGrad][1]).\n",
    "* **Core objectives** of KR include:\n",
    "\n",
    "  * Enabling **deductive, inductive, and abductive reasoning**\n",
    "  * Capturing **semantic relationships and context**\n",
    "  * Providing **representational adequacy** — expressive power to model uncertainty, exceptions, defaults ([UpGrad][1])."
   ]
  },
  {
   "cell_type": "markdown",
   "id": "06441397",
   "metadata": {},
   "source": [
    "#### **Core Objectives of KR**\n",
    "\n",
    "1. **Facilitate Inference & Reasoning:** Supports *deductive* logic (e.g., expert systems like MYCIN), *inductive* generalizations, and *abductive* explanation-based inference ([1]).\n",
    "\n",
    "2. **Capture Semantic Relationships & Context:** KR models entities, attributes, and relations—using *ontologies* (e.g. SNOMED, FOAF), *semantic networks* (is‑a, part‑of), and context-sensitive rules ([1]).\n",
    "\n",
    "3. **Ensure Representational Adequacy:** Must handle rich knowledge: uncertainty, defaults, exceptions, and non-monotonicity (belief revision when new facts arrive) ([1]).\n",
    "\n",
    "4. **Maintain Consistency & Clarity:** Use description logics (OWL/RDFS) and validation tools to detect inconsistencies and maintain modularity at scale ([1]).\n",
    "\n",
    "> **Example:** Google Knowledge Graph allows Google Search to answer questions by **reasoning about entities and their relationships**, rather than just matching keywords."
   ]
  },
  {
   "cell_type": "markdown",
   "id": "aa8fa343",
   "metadata": {},
   "source": [
    "### **Types of Knowledge**\n",
    "\n",
    "UpGrad classifies knowledge that AI systems need to represent into the following:\n",
    "\n",
    "1. **Declarative**: static facts (e.g. “Paris is the capital of France”)\n",
    "2. **Procedural**: task-based or how-to knowledge\n",
    "3. **Heuristic**: rules of thumb or shortcuts\n",
    "3. **Meta‑knowledge**: information about information (e.g., source reliability)\n",
    "4. **Common-sense knowledge**: everyday reasoning defaults\n",
    "5. **Ontological knowledge**: structured conceptual hierarchies of a domain\n",
    "6. **Domain-specific knowledge**: expert rules in fields like medicine or law ([1], [2])\n"
   ]
  },
  {
   "cell_type": "code",
   "execution_count": null,
   "id": "4fa239bb",
   "metadata": {},
   "outputs": [],
   "source": []
  },
  {
   "cell_type": "markdown",
   "metadata": {},
   "source": [
    "### **Methods of Knowledge Representation (Approaches to Knowledge Representation)**\n",
    "\n",
    "These are the **formal frameworks** used to represent and work with knowledge:\n",
    "\n",
    "##### **1. Propositional & First-Order Logic**\n",
    "* Propositional logic associates truth values with statements; simple but limited ([3]).\n",
    "* First-order logic provides greater expressivity with quantifiers and variables, foundational to formal reasoning systems.\n",
    "\n",
    "##### **2. Description Logics & Ontologies**\n",
    "* DLs are decidable fragments of FOL used in OWL and RDFS; enabling classification, consistency checking, and inference.\n",
    "* Ontologies provide **shared conceptualization**: explicit, rich definitions of domain entities and constraints ([1]).\n",
    "\n",
    "##### **3. Semantic Networks**\n",
    "\n",
    "* Graphs of nodes (concepts/entities) and labeled edges (relations like is‑a, part‑of). Useful in NLP and scene understanding ([4], [1]).\n",
    "\n",
    "##### **4. Frames and Scripts**\n",
    "\n",
    "* Frames structure stereotypical situations or objects with “slots” for default values (e.g., a \"restaurant\" frame with slots like menu, location).\n",
    "* Scripts encode common sequences of actions.\n",
    "\n",
    "##### **5. Production Rules**\n",
    "\n",
    "* Simple **IF–THEN logic systems**, common in expert systems or control logic (e.g., “If temperature > 100°C, then turn off heater”).\n",
    "\n",
    "##### **6. Probabilistic & Model-based Reasoning**\n",
    "\n",
    "* Bayesian networks, fuzzy logic, Dempster–Shafer frameworks allow reasoning under uncertainty.\n",
    "* **Model-based reasoning** uses causal or physical world models (e.g. diagnostic expert systems) ([1], [5]).\n",
    "\n",
    "##### **7. Embeddings & Distributed Representations**\n",
    "\n",
    "* Encode entities and relations into vector spaces for tasks like link prediction and clustering (e.g. TransE, ComplEx).\n",
    "* Useful when combining structured and unstructured data, enabling modern applications like question answering ([6]).\n"
   ]
  },
  {
   "cell_type": "code",
   "execution_count": null,
   "id": "f9102213",
   "metadata": {},
   "outputs": [],
   "source": []
  },
  {
   "cell_type": "markdown",
   "id": "35ef2884",
   "metadata": {},
   "source": [
    "### **KR Lifecycle: Knowledge Cycle**\n",
    "\n",
    "1. **Acquisition**: Gather data from text, databases, sensors\n",
    "2. **Representation**: Encode using logic, ontologies, frames, etc.\n",
    "3. **Reasoning**: Apply deduction, induction, abduction, non‑monotonic inference\n",
    "4. **Utilization**: Use knowledge for QA, planning, classification, decision-making\n",
    "5. **Refinement**: Update or revise knowledge with feedback or new data, enabling belief revision via non-monotonic KR support ([UpGrad][1])\n"
   ]
  },
  {
   "cell_type": "markdown",
   "id": "c7cc8067",
   "metadata": {},
   "source": [
    "### **Knowledge Representation and Reasoning (KR\\&R)**\n",
    "\n",
    "Knowledge Representation (KR) is not just about **storing information**—it’s about structuring knowledge in a way that enables **machines to reason, infer, and make intelligent decisions**.\n",
    "When combined with **Reasoning (R)**, KR moves beyond static data and enables systems to **derive new knowledge, handle uncertainty, and adapt to changing information**.\n",
    "\n",
    "### Why KR\\&R Matters\n",
    "\n",
    "* **Intelligent systems**: Enables AI to not just retrieve facts but reason about them.\n",
    "* **Decision making**: Helps derive logical conclusions from existing data.\n",
    "* **Explainability**: Provides clear reasoning paths, making AI decisions interpretable.\n",
    "* **Dynamic knowledge**: Adapts when new facts are introduced or old ones become invalid."
   ]
  },
  {
   "cell_type": "code",
   "execution_count": null,
   "id": "494bbd5c",
   "metadata": {},
   "outputs": [],
   "source": []
  },
  {
   "cell_type": "markdown",
   "id": "0c02c684",
   "metadata": {},
   "source": [
    "### Reasoning Types\n",
    "\n",
    "Reasoning in KR can be categorized into several types, each addressing different real-world needs:\n"
   ]
  },
  {
   "cell_type": "markdown",
   "id": "ff3d008b",
   "metadata": {},
   "source": [
    "##### 1. **Deductive Reasoning**\n",
    "\n",
    "**Definition:**\n",
    "Deductive reasoning applies **general rules or facts** to infer specific conclusions.\n",
    "If the knowledge base contains a rule and a fact, the reasoning engine can deduce new facts.\n",
    "\n",
    "**Example:**\n",
    "\n",
    "* Rule: *All humans are mortal.*\n",
    "* Fact: *Socrates is a human.*\n",
    "* Deduction: *Socrates is mortal.*\n",
    "\n",
    "**Applications:**\n",
    "\n",
    "* Formal logic-based systems.\n",
    "* Rule engines (e.g., Prolog, Drools).\n",
    "* Semantic Web ontologies (e.g., OWL reasoners).\n",
    "\n",
    "**Key Tools:**\n",
    "\n",
    "* **First-order logic (FOL)** and **Description Logic (DL)** reasoners.\n"
   ]
  },
  {
   "cell_type": "code",
   "execution_count": null,
   "id": "79c4fdc7",
   "metadata": {},
   "outputs": [],
   "source": []
  },
  {
   "cell_type": "markdown",
   "metadata": {},
   "source": [
    "##### 2. **Inductive Reasoning**\n",
    "\n",
    "**Definition:**\n",
    "Inductive reasoning **generalizes from specific observations** to broader rules or patterns.\n",
    "Unlike deduction, it does not guarantee truth; it produces probable conclusions.\n",
    "\n",
    "**Example:**\n",
    "\n",
    "* Observation 1: *The sun rose today.*\n",
    "* Observation 2: *The sun rose yesterday.*\n",
    "* Induction: *The sun always rises every morning.*\n",
    "\n",
    "**Applications:**\n",
    "\n",
    "* Machine learning and knowledge graph embedding.\n",
    "* Pattern discovery in large datasets.\n",
    "* Predictive analytics.\n",
    "\n",
    "**Key Tools:**\n",
    "\n",
    "* Statistical learning, Bayesian inference, and data mining.\n"
   ]
  },
  {
   "cell_type": "code",
   "execution_count": null,
   "id": "67563eb9",
   "metadata": {},
   "outputs": [],
   "source": []
  },
  {
   "cell_type": "markdown",
   "id": "e155a162",
   "metadata": {},
   "source": [
    "##### 3. **Abductive Reasoning**\n",
    "\n",
    "**Definition:**\n",
    "Abductive reasoning seeks the **best explanation** for an observation.\n",
    "It is commonly used in diagnostic systems and hypothesis generation.\n",
    "\n",
    "**Example:**\n",
    "\n",
    "* Fact: *The lawn is wet.*\n",
    "* Possible explanations:\n",
    "\n",
    "  1. It rained.\n",
    "  2. The sprinkler was on.\n",
    "  3. Someone spilled water.\n",
    "* Abductive inference: *The most plausible explanation is that it rained.*\n",
    "\n",
    "**Applications:**\n",
    "\n",
    "* Medical diagnosis systems.\n",
    "* Root-cause analysis.\n",
    "* Fault detection in engineering.\n",
    "\n",
    "**Key Tools:**\n",
    "\n",
    "* Probabilistic logic, Bayesian networks, and case-based reasoning.\n"
   ]
  },
  {
   "cell_type": "code",
   "execution_count": null,
   "id": "97498371",
   "metadata": {},
   "outputs": [],
   "source": []
  },
  {
   "cell_type": "markdown",
   "id": "264ac49d",
   "metadata": {},
   "source": [
    "##### 4. **Non-monotonic Reasoning**\n",
    "\n",
    "**Definition:**\n",
    "Non-monotonic reasoning handles **changing or incomplete knowledge**.\n",
    "In traditional logic, once something is true, it remains true (monotonic).\n",
    "In the real world, new information can **invalidate previous conclusions**.\n",
    "\n",
    "**Example:**\n",
    "\n",
    "* Initial knowledge: *Birds can fly.*\n",
    "* New fact: *Penguins are birds that cannot fly.*\n",
    "* Updated reasoning: *Not all birds can fly.*\n",
    "\n",
    "**Applications:**\n",
    "\n",
    "* Dynamic knowledge bases.\n",
    "* Legal reasoning (where exceptions exist).\n",
    "* AI agents operating in uncertain or evolving environments.\n",
    "\n",
    "**Key Tools:**\n",
    "\n",
    "* Default logic, autoepistemic logic, and belief revision systems.\n"
   ]
  },
  {
   "cell_type": "markdown",
   "metadata": {},
   "source": [
    "##### Putting It All Together in KR\\&R\n",
    "\n",
    "An intelligent KR\\&R system often combines these reasoning types:\n",
    "\n",
    "| Reasoning Type | Purpose                     | Typical Use Case               |\n",
    "| -------------- | --------------------------- | ------------------------------ |\n",
    "| Deductive      | Guaranteed truth from rules | Rule-based expert systems      |\n",
    "| Inductive      | Generalization from data    | Machine learning and analytics |\n",
    "| Abductive      | Hypothesis generation       | Diagnosis and troubleshooting  |\n",
    "| Non-monotonic  | Adapting to new knowledge   | Legal reasoning, dynamic AI    |\n"
   ]
  },
  {
   "cell_type": "code",
   "execution_count": null,
   "id": "47ed170a",
   "metadata": {},
   "outputs": [],
   "source": []
  },
  {
   "cell_type": "markdown",
   "id": "55ec4382",
   "metadata": {},
   "source": [
    "##### Example in a Knowledge Graph Context\n",
    "\n",
    "Suppose we have a **Knowledge Graph (KG):**\n",
    "\n",
    "* **Entities:** `Bird`, `Penguin`, `Sparrow`, `Flight`\n",
    "* **Relationships:**\n",
    "\n",
    "  * `Bird → canFly → true`\n",
    "  * `Penguin → subclassOf → Bird`\n",
    "  * `Penguin → canFly → false`\n",
    "\n",
    "##### Reasoning in Action:\n",
    "\n",
    "* **Deductive:** If `Sparrow` is a `Bird`, then `Sparrow canFly = true`.\n",
    "* **Inductive:** If 90% of observed birds fly, infer that \"most birds fly\".\n",
    "* **Abductive:** If you see a bird not flying, the best explanation might be that it is injured or it’s a penguin.\n",
    "* **Non-monotonic:** If a new species of bird is discovered that cannot fly, update the rule to include exceptions.\n",
    "\n",
    "---\n",
    "\n",
    "**Reasoning Summary**\n",
    "\n",
    "1. KR is not static—it is a **foundation for reasoning and inference**.\n",
    "2. Different reasoning types are complementary; intelligent systems often combine them.\n",
    "3. **Knowledge Graphs**, logic, and probabilistic methods enable these reasoning types in real-world AI systems.\n",
    "4. Handling **uncertainty and change** is critical for building adaptive AI."
   ]
  },
  {
   "cell_type": "code",
   "execution_count": null,
   "id": "c5bd9676",
   "metadata": {},
   "outputs": [],
   "source": []
  },
  {
   "cell_type": "markdown",
   "metadata": {},
   "source": [
    "#### **References & Credit**\n",
    "\n",
    "* UpGrad article: “What is Knowledge Representation in AI?” — Core source for types, methods, objectives, cycle, limitations, and future trends ([UpGrad][1])\n",
    "* UpGrad article: “A Brief Intro to Propositional Logic as the Foundation of AI” — for logic-based KR explanation ([UpGrad][3])\n",
    "* Wikipedia entries on **semantic networks**, **ontologies**, and **knowledge graphs** for conceptual grounding ([Wikipedia][4])\n",
    "* Academic surveys on **knowledge graph embedding**, **explainable AI**, and KG trends ([arxiv.org][9])\n",
    "\n",
    "---\n",
    "\n",
    "[1]: https://www.upgrad.com/blog/what-is-knowledge-representation-in-ai/?utm_source=chatgpt.com \"The Hidden Power of What is Knowledge Representation in AI\"\n",
    "[2]: https://en.wikipedia.org/wiki/Metaclass_%28knowledge_representation%29?utm_source=chatgpt.com \"Metaclass (knowledge representation)\"\n",
    "[3]: https://www.upgrad.com/blog/propositional-logic-foundation-of-ai/?utm_source=chatgpt.com \"A Brief Intro to Propositional Logic as the Foundation of Artificial ...\"\n",
    "[4]: https://en.wikipedia.org/wiki/Semantic_network?utm_source=chatgpt.com \"Semantic network\"\n",
    "[5]: https://en.wikipedia.org/wiki/Model-based_reasoning?utm_source=chatgpt.com \"Model-based reasoning\"\n",
    "[6]: https://arxiv.org/abs/2107.07842?utm_source=chatgpt.com \"A Survey of Knowledge Graph Embedding and Their Applications\"\n",
    "[7]: https://en.wikipedia.org/wiki/Knowledge_graph?utm_source=chatgpt.com \"Knowledge graph\"\n",
    "[8]: https://arxiv.org/abs/2003.00719?utm_source=chatgpt.com \"Knowledge Graphs on the Web -- an Overview\"\n",
    "[9]: https://arxiv.org/abs/2004.14843?utm_source=chatgpt.com \"Knowledge Graph Embeddings and Explainable AI\"\n"
   ]
  },
  {
   "cell_type": "code",
   "execution_count": null,
   "id": "709ec37c",
   "metadata": {},
   "outputs": [],
   "source": []
  }
 ],
 "metadata": {
  "kernelspec": {
   "display_name": "Python 3",
   "language": "python",
   "name": "python3"
  },
  "language_info": {
   "name": "python",
   "version": "3.10.12"
  }
 },
 "nbformat": 4,
 "nbformat_minor": 5
}
