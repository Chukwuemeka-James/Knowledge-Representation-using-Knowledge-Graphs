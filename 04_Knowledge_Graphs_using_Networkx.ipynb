{
 "cells": [
  {
   "cell_type": "markdown",
   "id": "4aa98f9d",
   "metadata": {},
   "source": [
    "## **Introduction to Knowledge Graph with the `networkx` package in python Part 1**\n",
    "\n",
    "### What is `networkx`?\n",
    "\n",
    "`networkx` is a **Python library for creating, manipulating, and analyzing complex networks**. It is widely used for:\n",
    "\n",
    "* Building **graph-based data structures** (nodes and edges).\n",
    "* Performing **graph algorithms** (shortest path, centrality, clustering).\n",
    "* Visualizing small to medium-sized graphs.\n",
    "* Serving as a foundation for **Knowledge Graph prototyping**.\n",
    "\n",
    "> Note: `networkx` is ideal for prototyping and small-scale graphs. For production-scale Knowledge Graphs, tools like **Neo4j**, **TigerGraph**, or **Memgraph** are preferred."
   ]
  },
  {
   "cell_type": "code",
   "execution_count": null,
   "id": "5b03d994",
   "metadata": {},
   "outputs": [],
   "source": []
  },
  {
   "cell_type": "markdown",
   "id": "c41d73da",
   "metadata": {},
   "source": [
    "> ### **Core Concepts in `networkx`**\n",
    "\n",
    "#### 1. Graph Types\n",
    "\n",
    "| Graph Type     | Description                                       |\n",
    "| -------------- | ------------------------------------------------- |\n",
    "| `Graph`        | Undirected graph (edges have no direction).       |\n",
    "| `DiGraph`      | Directed graph (edges have direction).            |\n",
    "| `MultiGraph`   | Allows multiple edges between the same nodes.     |\n",
    "| `MultiDiGraph` | Directed graph with multiple edges between nodes. |\n"
   ]
  },
  {
   "cell_type": "markdown",
   "id": "e8c8b27a",
   "metadata": {},
   "source": [
    "#### 2. Nodes\n",
    "\n",
    "* Represent **entities**.\n",
    "* Can store metadata (attributes)."
   ]
  },
  {
   "cell_type": "code",
   "execution_count": 1,
   "id": "2e85710b",
   "metadata": {},
   "outputs": [
    {
     "name": "stdout",
     "output_type": "stream",
     "text": [
      "[]\n"
     ]
    }
   ],
   "source": [
    "import networkx as nx\n",
    "\n",
    "G = nx.Graph()\n",
    "print(G.nodes(data=True))"
   ]
  },
  {
   "cell_type": "markdown",
   "id": "dbb33745",
   "metadata": {},
   "source": [
    "#### Adding a node:\n",
    "- **Syntax: G(`node`, `attribute_dictionary`)**\n",
    "\n",
    "- `attribute_dictionary`: Is optional"
   ]
  },
  {
   "cell_type": "code",
   "execution_count": 2,
   "id": "ecfb606a",
   "metadata": {},
   "outputs": [
    {
     "name": "stdout",
     "output_type": "stream",
     "text": [
      "[('James', {'role': 'Engineer', 'department': 'AI'})]\n"
     ]
    }
   ],
   "source": [
    "G.add_node(\"James\", role=\"Engineer\", department=\"AI\")\n",
    "print(G.nodes(data=True))"
   ]
  },
  {
   "cell_type": "markdown",
   "id": "45085d7e",
   "metadata": {},
   "source": [
    "#### 3. Edges\n",
    "\n",
    "* Represent **relationships** between nodes.\n",
    "* Can also store attributes (e.g., weight, type, timestamp).\n",
    "\n",
    "**Syntax:** G.add_edges(`u`,`v`, `attribute_dictionary`)\n",
    "\n",
    "- where u, and v are nodes"
   ]
  },
  {
   "cell_type": "code",
   "execution_count": 3,
   "id": "f07ee150",
   "metadata": {},
   "outputs": [
    {
     "name": "stdout",
     "output_type": "stream",
     "text": [
      "[('James', 'Colab Innivation Hub', {'relation': 'WORKS_AT', 'since': 2024})]\n"
     ]
    }
   ],
   "source": [
    "# Add more node\n",
    "G.add_node(\"Colab Innivation Hub\", type=\"Company\")\n",
    "\n",
    "# Add an edge between two nodes u, v\n",
    "G.add_edge(\"James\", \"Colab Innivation Hub\", relation=\"WORKS_AT\", since=2024)\n",
    "print(G.edges(data=True))"
   ]
  },
  {
   "cell_type": "markdown",
   "id": "1a4465b1",
   "metadata": {},
   "source": [
    "### Let's visualualise the realtionship"
   ]
  },
  {
   "cell_type": "code",
   "execution_count": 4,
   "id": "735044a9",
   "metadata": {},
   "outputs": [
    {
     "data": {
      "image/png": "[encoded data removed]",
      "text/plain": [
       "<Figure size 640x480 with 1 Axes>"
      ]
     },
     "metadata": {},
     "output_type": "display_data"
    }
   ],
   "source": [
    "import matplotlib.pyplot as plt\n",
    "\n",
    "# Layout and draw\n",
    "pos = nx.spring_layout(G)\n",
    "nx.draw(G, pos, with_labels=True, node_color='lightblue', node_size=2500)\n",
    "\n",
    "# Add edge labels\n",
    "labels = {(u, v): d[\"relation\"] for u, v, d in G.edges(data=True)}\n",
    "nx.draw_networkx_edge_labels(G, pos, edge_labels=labels)\n",
    "\n",
    "plt.show()"
   ]
  },
  {
   "cell_type": "markdown",
   "id": "66a0aa37",
   "metadata": {},
   "source": [
    "> ### **Basic Operations in `networkx`**\n",
    "\n",
    "#### 1. Adding Multiple Nodes and Edges\n",
    "\n",
    "**Multiple node adding Syntax:** \n",
    "\n",
    "- G.add_nodes_from([u,v,w])\n",
    "\n",
    "- where u,v,w can either be a value or a tuple containing a `node` and a `dictionary_attribute`"
   ]
  },
  {
   "cell_type": "code",
   "execution_count": 5,
   "id": "dcb6af39",
   "metadata": {},
   "outputs": [
    {
     "name": "stdout",
     "output_type": "stream",
     "text": [
      "[('James', {'role': 'Engineer', 'department': 'AI'}), ('Colab Innivation Hub', {'type': 'Company'}), ('Tobe', {'role': 'MLOps'}), ('Nanfe', {'role': 'Researcher'})]\n"
     ]
    }
   ],
   "source": [
    "G.add_nodes_from([\n",
    "    (\"Tobe\", {\"role\": \"MLOps\"}),\n",
    "    (\"Nanfe\", {\"role\": \"Researcher\"})\n",
    "])\n",
    "print(G.nodes(data=True))"
   ]
  },
  {
   "cell_type": "code",
   "execution_count": 6,
   "id": "540aa608",
   "metadata": {},
   "outputs": [],
   "source": [
    "G.add_edges_from([\n",
    "    (\"Colab Innivation Hub\", \"Tobe\", {\"relation\": \"WORKS_AT\"}),\n",
    "    (\"Colab Innivation Hub\", \"Nanfe\", {\"relation\": \"WORKS_AT\"})\n",
    "])"
   ]
  },
  {
   "cell_type": "code",
   "execution_count": 7,
   "id": "88302cc5",
   "metadata": {},
   "outputs": [
    {
     "name": "stdout",
     "output_type": "stream",
     "text": [
      "[('James', 'Colab Innivation Hub', {'relation': 'WORKS_AT', 'since': 2024}), ('Colab Innivation Hub', 'Tobe', {'relation': 'WORKS_AT'}), ('Colab Innivation Hub', 'Nanfe', {'relation': 'WORKS_AT'})]\n"
     ]
    }
   ],
   "source": [
    "print(G.edges(data=True))"
   ]
  },
  {
   "cell_type": "markdown",
   "id": "a7f7ab43",
   "metadata": {},
   "source": [
    "#### 2. Accessing Graph Information\n"
   ]
  },
  {
   "cell_type": "code",
   "execution_count": 8,
   "id": "e2c4921a",
   "metadata": {},
   "outputs": [
    {
     "name": "stdout",
     "output_type": "stream",
     "text": [
      "['James', 'Colab Innivation Hub', 'Tobe', 'Nanfe']\n",
      "[('James', 'Colab Innivation Hub'), ('Colab Innivation Hub', 'Tobe'), ('Colab Innivation Hub', 'Nanfe')]\n",
      "{'relation': 'WORKS_AT', 'since': 2024}\n"
     ]
    }
   ],
   "source": [
    "print(G.nodes())             # All nodes\n",
    "print(G.edges())             # All edges\n",
    "print(G[\"James\"][\"Colab Innivation Hub\"])  # Edge attributes"
   ]
  },
  {
   "cell_type": "markdown",
   "id": "7096aff3",
   "metadata": {},
   "source": [
    "#### **let's explain the above output**\n",
    " 1. `print(G.nodes())` → **All Nodes**\n",
    "\n",
    "* **Nodes** represent the **entities** (or objects) in the graph.\n",
    "* In a knowledge graph, nodes can be:\n",
    "\n",
    "  * People (`James`, `Tobe`, `Nanfe`)\n",
    "  * Organizations (`Colab Innivation Hub`)\n",
    "  * Or any other concept/entity."
   ]
  },
  {
   "cell_type": "markdown",
   "id": "c707e760",
   "metadata": {},
   "source": [
    "Here:\n",
    "\n",
    "* The graph contains **4 nodes** (entities):\n",
    "\n",
    "  * `James` → likely a person.\n",
    "  * `Colab Innivation Hub` → likely an organization or workplace.\n",
    "  * `Tobe` and `Nanfe` → likely other people or entities related to the hub.\n",
    "\n",
    "These are the building blocks of your knowledge graph.\n"
   ]
  },
  {
   "cell_type": "code",
   "execution_count": null,
   "id": "aa3c22b3",
   "metadata": {},
   "outputs": [],
   "source": []
  },
  {
   "cell_type": "markdown",
   "id": "bc9f80e3",
   "metadata": {},
   "source": [
    " 2. `print(G.edges())` → **All Edges**\n",
    "\n",
    "* **Edges** are the **connections** between nodes.\n",
    "* In a knowledge graph, they represent **relationships** between entities.\n",
    "* They can be **directed** (A → B) or **undirected** (A — B).\n"
   ]
  },
  {
   "cell_type": "markdown",
   "id": "a92d5bd7",
   "metadata": {},
   "source": [
    "Here:\n",
    "\n",
    "* `James → Colab Innivation Hub`\n",
    "\n",
    "  * James is related to the hub (likely works there).\n",
    "* `Colab Innivation Hub → Tobe`\n",
    "\n",
    "  * The hub is connected to Tobe (the exact relationship depends on attributes).\n",
    "* `Colab Innivation Hub → Nanfe`\n",
    "\n",
    "  * The hub is also connected to Nanfe.\n",
    "\n",
    "This defines the **structure of relationships** between your entities.\n"
   ]
  },
  {
   "cell_type": "code",
   "execution_count": null,
   "id": "51fcdde2",
   "metadata": {},
   "outputs": [],
   "source": []
  },
  {
   "cell_type": "markdown",
   "id": "ae5e2419",
   "metadata": {},
   "source": [
    " 3. `print(G[\"James\"][\"Colab Innivation Hub\"])` → **Edge Attributes**\n",
    "\n",
    "#### **Definition**\n",
    "\n",
    "* **Edge attributes** are metadata attached to the relationship (edge).\n",
    "* They describe the **type of relationship** and additional context.\n",
    "\n",
    "Here:\n",
    "\n",
    "* `relation: 'WORKS_AT'` → James works at Colab Innivation Hub.\n",
    "* `since: 2024` → The relationship started in 2024 (useful for temporal reasoning).\n",
    "\n",
    "This transforms a simple edge into a **semantic relationship**, which is key for knowledge graphs."
   ]
  },
  {
   "cell_type": "code",
   "execution_count": 9,
   "id": "8b790f7c",
   "metadata": {},
   "outputs": [
    {
     "name": "stdout",
     "output_type": "stream",
     "text": [
      "[('James', {'role': 'Engineer', 'department': 'AI'}), ('Colab Innivation Hub', {'type': 'Company'}), ('Tobe', {'role': 'MLOps'}), ('Nanfe', {'role': 'Researcher'})]\n",
      "[('James', 'Colab Innivation Hub', {'relation': 'WORKS_AT', 'since': 2024}), ('Colab Innivation Hub', 'Tobe', {'relation': 'WORKS_AT'}), ('Colab Innivation Hub', 'Nanfe', {'relation': 'WORKS_AT'})]\n"
     ]
    }
   ],
   "source": [
    "# Let's print all edges and attributes\n",
    "\n",
    "print(G.nodes(data=True))             # All nodes and attributes\n",
    "print(G.edges(data=True))             # All edges and attributes"
   ]
  },
  {
   "cell_type": "markdown",
   "id": "2c9a6e0e",
   "metadata": {},
   "source": [
    "> ### **3. Removing Nodes and Edges**\n"
   ]
  },
  {
   "cell_type": "code",
   "execution_count": 10,
   "metadata": {},
   "outputs": [],
   "source": [
    "G.remove_node(\"Nanfe\")"
   ]
  },
  {
   "cell_type": "code",
   "execution_count": 11,
   "id": "8270113a",
   "metadata": {},
   "outputs": [
    {
     "name": "stdout",
     "output_type": "stream",
     "text": [
      "['James', 'Colab Innivation Hub', 'Tobe']\n",
      "[('James', 'Colab Innivation Hub'), ('Colab Innivation Hub', 'Tobe')]\n"
     ]
    }
   ],
   "source": [
    "print(G.nodes())\n",
    "print(G.edges())"
   ]
  },
  {
   "cell_type": "code",
   "execution_count": 12,
   "id": "e196a075",
   "metadata": {},
   "outputs": [
    {
     "data": {
      "image/png": "[encoded data removed]",
      "text/plain": [
       "<Figure size 640x480 with 1 Axes>"
      ]
     },
     "metadata": {},
     "output_type": "display_data"
    }
   ],
   "source": [
    "# Layout and draw\n",
    "pos = nx.spring_layout(G)\n",
    "nx.draw(G, pos, with_labels=True, node_color='lightblue', node_size=2500)\n",
    "\n",
    "# Add edge labels\n",
    "labels = {(u, v): d[\"relation\"] for u, v, d in G.edges(data=True)}\n",
    "nx.draw_networkx_edge_labels(G, pos, edge_labels=labels)\n",
    "\n",
    "plt.show()"
   ]
  },
  {
   "cell_type": "markdown",
   "id": "786349f1",
   "metadata": {},
   "source": [
    "#### **Note: that the above is an undirected graph.**"
   ]
  },
  {
   "cell_type": "code",
   "execution_count": null,
   "id": "d13e45a5",
   "metadata": {},
   "outputs": [],
   "source": []
  },
  {
   "cell_type": "markdown",
   "id": "5649ce68",
   "metadata": {},
   "source": [
    "### **4. Graph Algorithms**\n",
    "\n",
    "`networkx` provides a rich set of built-in algorithms.\n",
    "\n",
    "#### 1. Shortest Path"
   ]
  },
  {
   "cell_type": "code",
   "execution_count": 13,
   "id": "e09cc59f",
   "metadata": {},
   "outputs": [
    {
     "name": "stdout",
     "output_type": "stream",
     "text": [
      "['A', 'C']\n"
     ]
    }
   ],
   "source": [
    "G_1 = nx.Graph()\n",
    "G_1.add_edges_from([(\"A\", \"B\"), (\"B\", \"C\"), (\"A\", \"C\")])\n",
    "print(nx.shortest_path(G_1, \"A\", \"C\"))"
   ]
  },
  {
   "cell_type": "code",
   "execution_count": 17,
   "id": "0d8cdc45",
   "metadata": {},
   "outputs": [
    {
     "data": {
      "image/png": "[encoded data removed]",
      "text/plain": [
       "<Figure size 640x480 with 1 Axes>"
      ]
     },
     "metadata": {},
     "output_type": "display_data"
    }
   ],
   "source": [
    "import matplotlib.pyplot as plt\n",
    "\n",
    "pos = nx.spring_layout(G_1)\n",
    "edge_labels = {(u, v): d.get(\"relation\", \"\") for u, v, d in G_1.edges(data=True)}\n",
    "\n",
    "nx.draw(G_1, pos, with_labels=True, node_color=\"lightblue\", node_size=2000)\n",
    "nx.draw_networkx_edge_labels(G_1, pos, edge_labels=edge_labels)\n",
    "plt.show()"
   ]
  },
  {
   "cell_type": "markdown",
   "id": "d7635e96",
   "metadata": {},
   "source": [
    "#### 2. Degree and Centrality\n"
   ]
  },
  {
   "cell_type": "code",
   "execution_count": 14,
   "id": "7b70b885",
   "metadata": {},
   "outputs": [
    {
     "name": "stdout",
     "output_type": "stream",
     "text": [
      "{'A': 2, 'B': 2, 'C': 2}\n",
      "{'A': 1.0, 'B': 1.0, 'C': 1.0}\n",
      "{'A': 0.0, 'B': 0.0, 'C': 0.0}\n"
     ]
    }
   ],
   "source": [
    "print(dict(G_1.degree()))             # Node degrees\n",
    "print(nx.degree_centrality(G_1))      # Degree centrality\n",
    "print(nx.betweenness_centrality(G_1)) # Betweenness centrality"
   ]
  },
  {
   "cell_type": "markdown",
   "id": "ef4b7356",
   "metadata": {},
   "source": [
    " 1. `dict(G_1.degree())` → **Node Degree**\n",
    "\n",
    "* **Degree** = The number of edges connected to a node.\n",
    "\n",
    "  * In an **undirected graph**, it’s just the count of connections.\n",
    "  * In a **directed graph**, there are:\n",
    "\n",
    "    * **In-degree**: edges coming into the node.\n",
    "    * **Out-degree**: edges going out of the node.\n",
    "\n",
    "Here:\n",
    "\n",
    "* `A`, `B`, and `C` each have **2 connections**.\n",
    "  This implies each node is connected to the other two (a triangle graph).\n"
   ]
  },
  {
   "cell_type": "code",
   "execution_count": null,
   "id": "78cbfce3",
   "metadata": {},
   "outputs": [],
   "source": []
  },
  {
   "cell_type": "markdown",
   "id": "0aa7a4e0",
   "metadata": {},
   "source": [
    " 2. `nx.degree_centrality(G_1)` → **Degree Centrality**\n",
    "\n",
    "* **Degree Centrality** measures **how connected a node is relative to all other nodes** in the graph.\n",
    "* Formula:\n",
    "\n",
    "  $$\n",
    "  \\text{Degree Centrality}(v) = \\frac{\\text{Degree of node v}}{N - 1}\n",
    "  $$\n",
    "\n",
    "  where $N$ is the total number of nodes.\n",
    "\n",
    "For the above graph:\n",
    "\n",
    "* Each node has degree 2.\n",
    "* $N = 3$ nodes.\n",
    "\n",
    "$$\n",
    "\\frac{2}{3-1} = 1.0\n",
    "$$\n",
    "\n",
    "So every node is fully connected to all the others → **perfect centrality**.\n"
   ]
  },
  {
   "cell_type": "code",
   "execution_count": null,
   "id": "820e6f14",
   "metadata": {},
   "outputs": [],
   "source": []
  },
  {
   "cell_type": "markdown",
   "id": "f423106e",
   "metadata": {},
   "source": [
    " 3. `nx.betweenness_centrality(G_1)` → **Betweenness Centrality**\n",
    "\n",
    "* **Betweenness Centrality** measures how often a node lies **on the shortest path between other nodes**.\n",
    "* Formula:\n",
    "\n",
    "  $$\n",
    "  \\text{Betweenness Centrality}(v) = \\sum_{s \\neq v \\neq t} \\frac{\\text{Shortest paths through v}}{\\text{Total shortest paths between s and t}}\n",
    "  $$\n",
    "\n",
    "For your graph:\n",
    "\n",
    "* Every node is directly connected to every other node (it's a triangle).\n",
    "* There are **no \"intermediate\" nodes** needed for shortest paths.\n",
    "* Therefore, betweenness centrality is `0.0` for all nodes.\n"
   ]
  },
  {
   "cell_type": "markdown",
   "id": "ff986b8e",
   "metadata": {},
   "source": [
    "#### Visual Representation\n",
    "\n",
    "```markdown\n",
    "A ── B\n",
    " \\  /\n",
    "  C\n",
    "```\n",
    "\n",
    "* Every node is equally connected.\n",
    "* No node acts as a bridge between others."
   ]
  },
  {
   "cell_type": "markdown",
   "id": "ac26c43b",
   "metadata": {},
   "source": [
    "**Summary of Metrics**\n",
    "\n",
    "| Metric                | Meaning                                                             | Example Result |\n",
    "| --------------------- | ------------------------------------------------------------------- | -------------- |\n",
    "| **Degree**            | Number of edges connected to a node.                                | A: 2           |\n",
    "| **Degree Centrality** | How connected a node is relative to all others (normalized).        | A: 1.0         |\n",
    "| **Betweenness**       | How often a node acts as a bridge in shortest paths between others. | A: 0.0         |"
   ]
  },
  {
   "cell_type": "markdown",
   "id": "f4296bab",
   "metadata": {},
   "source": [
    "#### 3. Connected Components\n"
   ]
  },
  {
   "cell_type": "code",
   "execution_count": 15,
   "id": "c1689ea0",
   "metadata": {},
   "outputs": [
    {
     "name": "stdout",
     "output_type": "stream",
     "text": [
      "[{'A', 'C', 'B'}]\n"
     ]
    }
   ],
   "source": [
    "print(list(nx.connected_components(G_1)))\n"
   ]
  },
  {
   "cell_type": "markdown",
   "id": "5c57c06c",
   "metadata": {},
   "source": [
    "### Limitations of `networkx` for Knowledge Graphs\n",
    "\n",
    "* No native RDF or SPARQL support\n",
    "* No ontology reasoning\n",
    "* Memory-based (not suitable for very large graphs)\n",
    "* No built-in schema enforcement\n",
    "\n",
    "**Solution:** For production, use **Neo4j** (property graph) or **GraphDB/Stardog** (RDF), but `networkx` is perfect for **teaching, prototyping, and algorithmic experimentation**.\n",
    "\n",
    "### **References**\n",
    "\n",
    "* [NetworkX Documentation](https://networkx.org/)\n",
    "* [Neo4j Knowledge Graph Guide](https://neo4j.com/knowledge-graph/)\n",
    "* [Hogan et al. (2021) – Knowledge Graphs](https://arxiv.org/abs/2003.02320)\n",
    "* [Ontotext: Building Knowledge Graphs](https://www.ontotext.com/knowledgehub/fundamentals/what-is-a-knowledge-graph/)"
   ]
  },
  {
   "cell_type": "code",
   "execution_count": null,
   "id": "dba0b9f3",
   "metadata": {},
   "outputs": [],
   "source": []
  }
 ],
 "metadata": {
  "kernelspec": {
   "display_name": "Python 3",
   "language": "python",
   "name": "python3"
  },
  "language_info": {
   "codemirror_mode": {
    "name": "ipython",
    "version": 3
   },
   "file_extension": ".py",
   "mimetype": "text/x-python",
   "name": "python",
   "nbconvert_exporter": "python",
   "pygments_lexer": "ipython3",
   "version": "3.10.12"
  }
 },
 "nbformat": 4,
 "nbformat_minor": 5
}
