{
 "cells": [
  {
   "cell_type": "markdown",
   "id": "0a1aa9cc",
   "metadata": {},
   "source": [
    "## **Knowledge Graphs**\n",
    "\n",
    "* A **Knowledge Graph (KG)** is a graph‑based **knowledge representation system**, used to model entities (nodes) and their relationships (edges) with semantically rich labels, enabling machines to interpret, query, and reason across interconnected data ([1]).\n",
    "* Designed to **integrate real-world knowledge**, KGs power applications from search engines (e.g. Google, Wolfram Alpha) to biomedical knowledge bases and enterprise data platforms ([2]).\n",
    "\n",
    "\n",
    "### **Components of a Knowledge Graph**\n",
    "\n",
    "**1. Nodes (Entities):** Represent real-world objects or abstract concepts: people, places, products, events ([ai.stanford.edu][4]).\n",
    "\n",
    "**2. Edges (Relationships):** Directed and semantically labeled: e.g., *authoredBy*, *locatedAt*—capturing the nature of relationships between entities ([5], [6]).\n",
    "\n",
    "**3. Properties (Attributes):** Metadata tied to nodes or edges: types, values, dates, provenance—offering rich contextual detail.\n",
    "\n",
    "**4. Ontology / Schema:** Defines entity types, hierarchical classes, and constraints using RDF Schema (RDFS), OWL, or SKOS—imparting structure and enabling reasoning ([7],[8])."
   ]
  },
  {
   "cell_type": "markdown",
   "id": "aee2d9af",
   "metadata": {},
   "source": [
    "### Why Knowledge Graphs\n",
    "\n",
    "* **Contextual Retrieval**: Graphs connect entities, enabling richer semantic queries.\n",
    "* **Explainability**: Each fact has a provenance.\n",
    "* **Compositional Reasoning**: Queries can traverse multi-hop relationships.\n",
    "* **Trust and Governance**: Integrates with trust graphs and provenance tracking (aligned with the *Intuition Trust Layer*).\n"
   ]
  },
  {
   "cell_type": "code",
   "execution_count": null,
   "id": "67458113",
   "metadata": {},
   "outputs": [],
   "source": []
  },
  {
   "cell_type": "markdown",
   "id": "fe6cf8fc",
   "metadata": {},
   "source": [
    "> ### **Knowledge Graph Implementation**\n",
    "\n",
    "Knowledge Graphs (KGs) are not tied to a single technology. Instead, they can be implemented using **different graph data models** and tools, depending on the use case, reasoning needs, and scalability requirements.\n"
   ]
  },
  {
   "cell_type": "markdown",
   "id": "ff18e6c1",
   "metadata": {},
   "source": [
    "#### 1. Property Graph Model\n",
    "\n",
    "The **Property Graph** model is widely adopted in industry for its simplicity and flexibility.\n",
    "\n",
    "#### Features:\n",
    "\n",
    "* Nodes and edges can have **properties** (key–value pairs)\n",
    "* No strict schema required (schema-optional)\n",
    "* Designed for **graph analytics** and traversal\n",
    "* Query languages: **Cypher**, **Gremlin**"
   ]
  },
  {
   "cell_type": "markdown",
   "id": "76527d64",
   "metadata": {},
   "source": [
    "#### Example:\n",
    "\n",
    "```cypher\n",
    "CREATE (a:Person {name: 'Alice'})-[:WORKS_FOR]->(c:Company {name: 'AcmeCorp'})\n",
    "```\n",
    "\n",
    "#### Tools:\n",
    "\n",
    "* **Neo4j** (most popular property graph database)\n",
    "* **TigerGraph**\n",
    "* **JanusGraph**\n",
    "\n",
    "#### Advantages:\n",
    "\n",
    "* Easy to learn for developers\n",
    "* Optimized for fast graph traversal\n",
    "* Rich ecosystem for graph analytics\n",
    "\n",
    "#### Limitations:\n",
    "\n",
    "* Lacks built-in formal semantics\n",
    "* No standardized ontology support (external logic engines needed)"
   ]
  },
  {
   "cell_type": "code",
   "execution_count": null,
   "id": "02062f50",
   "metadata": {},
   "outputs": [],
   "source": []
  },
  {
   "cell_type": "markdown",
   "id": "a5574b11",
   "metadata": {},
   "source": [
    "\n",
    "#### 2. RDF Graph Model (Semantic Web-based)\n",
    "\n",
    "The **RDF (Resource Description Framework)** model is the W3C standard for semantic knowledge graphs.\n",
    "\n",
    "##### Features:\n",
    "\n",
    "* **Triple-based representation**: `(subject, predicate, object)`\n",
    "* Strong **formal semantics** (RDF Schema, OWL) for inference\n",
    "* **SPARQL** as the query language\n",
    "* Optimized for **semantic interoperability** and reasoning"
   ]
  },
  {
   "cell_type": "markdown",
   "id": "219b06b4",
   "metadata": {},
   "source": [
    "##### Example:\n",
    "\n",
    "```turtle\n",
    ":Person a rdfs:Class .\n",
    ":Alice a :Person .\n",
    ":Alice :worksFor :AcmeCorp .\n",
    ":AcmeCorp a :Organization .\n",
    "```\n",
    "#### Tools:\n",
    "\n",
    "* **Apache Jena** (Java-based framework)\n",
    "* **RDFLib** (Python)\n",
    "* **Stardog**, **GraphDB**, **Blazegraph** (RDF triple stores)\n",
    "\n",
    "#### Advantages:\n",
    "\n",
    "* Standardized and interoperable\n",
    "* Supports ontology-driven reasoning\n",
    "* Ideal for linked data and knowledge integration\n",
    "\n",
    "#### Limitations:\n",
    "\n",
    "* Verbose for large-scale analytics\n",
    "* Steeper learning curve for non-semantic web developers\n"
   ]
  },
  {
   "cell_type": "code",
   "execution_count": null,
   "id": "e4c52bb6",
   "metadata": {},
   "outputs": [],
   "source": []
  },
  {
   "cell_type": "markdown",
   "id": "f84b52d0",
   "metadata": {},
   "source": []
  },
  {
   "cell_type": "markdown",
   "id": "016f0e6a",
   "metadata": {},
   "source": []
  },
  {
   "cell_type": "code",
   "execution_count": null,
   "id": "30bd7e4c",
   "metadata": {},
   "outputs": [],
   "source": []
  },
  {
   "cell_type": "markdown",
   "id": "54286108",
   "metadata": {},
   "source": [
    "#### 3 Hybrid Approaches\n",
    "\n",
    "Many modern knowledge graph platforms **combine RDF and property graph models** to get the best of both worlds:\n",
    "\n",
    "* **Amazon Neptune**: Supports both RDF (SPARQL) and Property Graph (Gremlin)\n",
    "* **Neo4j with RDF Plugins**: Allows RDF import and reasoning while maintaining property graph queries\n",
    "* **TerminusDB**: Versioned knowledge graph with document-like property structure and RDF compatibility\n",
    "\n",
    "This approach allows:\n",
    "\n",
    "* RDF for semantic interoperability\n",
    "* Property graphs for efficient analytics"
   ]
  },
  {
   "cell_type": "code",
   "execution_count": null,
   "id": "9ff4104a",
   "metadata": {},
   "outputs": [],
   "source": []
  },
  {
   "cell_type": "markdown",
   "id": "881a3d04",
   "metadata": {},
   "source": [
    "> ### **Knowledge Graph IMplementation Workflow**\n",
    "\n",
    "1. **Ontology Design**: Define classes, relations, and constraints (e.g. using OWL, SKOS).\n",
    "2. **Data Integration**: Ingest from text, databases, web; entity resolution and alignment.\n",
    "3. **Triple Generation**: Construct RDF triples or property graph representations.\n",
    "4. **Reasoning & Inference**: Use ontology-based reasoning to derive new facts.\n",
    "5. **Quality Assurance**: Ensure consistency, resolve contradictions, and validate schema.\n",
    "6. **Maintenance & Evolution**: Update schema and content as domains change ([Wikipedia][11])."
   ]
  },
  {
   "cell_type": "markdown",
   "id": "83ba0a64",
   "metadata": {},
   "source": [
    "> ### **Practical Considerations for Implementation**\n",
    "\n",
    "| Factor             | RDF Graphs                     | Property Graphs                     |\n",
    "| ------------------ | ------------------------------ | ----------------------------------- |\n",
    "| Reasoning          | Native (OWL, RDFS)             | External rule engines needed        |\n",
    "| Performance        | Optimized for semantic queries | Optimized for graph traversals      |\n",
    "| Schema Flexibility | Rigid (ontology-driven)        | Schema-optional                     |\n",
    "| Interoperability   | Strong (W3C standards)         | Weaker (vendor-specific)            |\n",
    "| Ecosystem          | Academic & standards-based     | Developer-friendly & industry-heavy |\n"
   ]
  },
  {
   "cell_type": "markdown",
   "id": "7c170b95",
   "metadata": {},
   "source": [
    "> ### **Query, Reasoning & Semantic Enrichment**\n",
    "\n",
    "* **SPARQL** is the standard query language for RDF KGs.\n",
    "* **Reasoning Types** apply:\n",
    "\n",
    "  * *Deduction*: Ontology-driven class inference.\n",
    "  * *Induction*: Embedding-based link prediction.\n",
    "  * *Abduction*: Inferring plausible connections.\n",
    "  * *Non-monotonicity*: Revising beliefs with new data.\n",
    "* **Integration with NLP** and ML: Automatic entity linking, KG-based QA and explainability layers ([medium.com][12], [pub.towardsai.net][13]).\n"
   ]
  },
  {
   "cell_type": "markdown",
   "id": "0d623594",
   "metadata": {},
   "source": [
    "> ### **Knowledge Graph Embeddings**\n",
    "\n",
    "* **Embedding** converts entities and relations into low‑dimensional vectors, enabling machine learning integration.\n",
    "* Well-established methods: TransE, DistMult, ComplEx, and graph neural network approaches ([14], [15], [13]).\n",
    "* Embeddings enable **link prediction**, **entity clustering**, and **explainable reasoning** in applications like recommendation or biomedical discovery.\n"
   ]
  },
  {
   "cell_type": "code",
   "execution_count": null,
   "id": "b97d64d8",
   "metadata": {},
   "outputs": [],
   "source": []
  },
  {
   "cell_type": "markdown",
   "id": "39a38dc1",
   "metadata": {},
   "source": [
    "> ## **A list of *common terms* used in *Knowledge Graphs (KG)* and *Knowledge Representation* (KR)**:\n",
    "\n",
    "### **Core Concepts**\n",
    "\n",
    "| Term                     | Meaning                                                                  |\n",
    "| ------------------------ | ------------------------------------------------------------------------ |\n",
    "| **Entity**               | A real-world object or concept (e.g. `Alice`, `Acme Corp`).              |\n",
    "| **Node**                 | A graph representation of an entity.                                     |\n",
    "| **Relationship (Edge)**  | A connection between two entities (e.g. `worksAt`, `locatedIn`).         |\n",
    "| **Attribute (Property)** | A descriptive feature of an entity or relationship (e.g. `age: 30`).     |\n",
    "| **Triple**               | A basic RDF statement: `(subject, predicate, object)`.                   |\n",
    "| **Ontology**             | The schema: defines entity types, relationships, and constraints.        |\n",
    "| **Class (Type)**         | Category of an entity (e.g. `Person`, `Company`).                        |\n",
    "| **Instance**             | A concrete example of a class (e.g. `Alice` is an instance of `Person`). |\n"
   ]
  },
  {
   "cell_type": "code",
   "execution_count": null,
   "id": "11bb2f69",
   "metadata": {},
   "outputs": [],
   "source": []
  },
  {
   "cell_type": "markdown",
   "id": "d6adfde9",
   "metadata": {},
   "source": [
    "### **Graph and Querying**\n",
    "\n",
    "| Term                                     | Meaning                                                  |\n",
    "| ---------------------------------------- | -------------------------------------------------------- |\n",
    "| **RDF (Resource Description Framework)** | A standard model for representing knowledge as triples.  |\n",
    "| **SPARQL**                               | Query language for RDF-based graphs.                     |\n",
    "| **Property Graph**                       | Graph model with nodes, edges, and key-value attributes. |\n",
    "| **Cypher**                               | Query language for property graphs (e.g. Neo4j).         |\n",
    "| **IRI/URI**                              | Unique identifier for entities in a graph.               |\n"
   ]
  },
  {
   "cell_type": "code",
   "execution_count": null,
   "id": "a26393aa",
   "metadata": {},
   "outputs": [],
   "source": []
  },
  {
   "cell_type": "markdown",
   "id": "ae39e50c",
   "metadata": {},
   "source": [
    "### **Reasoning and Semantics**\n",
    "\n",
    "| Term                                   | Meaning                                                                                |\n",
    "| -------------------------------------- | -------------------------------------------------------------------------------------- |\n",
    "| **Inference**                          | Deriving implicit facts from explicit ones.                                            |\n",
    "| **Reasoner**                           | A system that applies logical rules to a knowledge graph to infer new knowledge.       |\n",
    "| **Semantic Web**                       | A vision of linking and sharing knowledge on the web using standards like RDF and OWL. |\n",
    "| **OWL (Web Ontology Language)**        | A language for defining rich ontologies and constraints.                               |\n",
    "| **SHACL (Shapes Constraint Language)** | Used to validate graph data against a schema.                                          |\n",
    "\n",
    "\n",
    "### **Advanced KG & KR**\n",
    "\n",
    "| Term                    | Meaning                                                             |\n",
    "| ----------------------- | ------------------------------------------------------------------- |\n",
    "| **Knowledge Fusion**    | Combining knowledge from multiple sources into a unified graph.     |\n",
    "| **Knowledge Embedding** | Mapping entities and relationships to vectors for machine learning. |\n",
    "| **GraphRAG**            | Retrieval-Augmented Generation over knowledge graphs.               |\n",
    "| **Provenance**          | Metadata describing the source and trustworthiness of knowledge.    |\n",
    "| **Linked Data**         | Interconnected RDF datasets on the web.                             |"
   ]
  },
  {
   "cell_type": "markdown",
   "id": "c46016d0",
   "metadata": {},
   "source": [
    "> ## **Knowledge Graph Metrics**\n",
    "\n",
    "Understanding a Knowledge Graph (KG) is not only about **storing entities and relationships** but also about analyzing its **structure** to identify important nodes, detect communities, and measure connectivity. These measurements fall under **Graph Analytics**, not semantic reasoning, and are essential for tasks like **ranking, recommendation, knowledge discovery, and data quality analysis**.\n",
    "\n",
    "## 1. Centrality Metrics (Node Importance)\n",
    "\n",
    "Centrality measures help determine how important or influential a node is within the KG."
   ]
  },
  {
   "cell_type": "markdown",
   "id": "95d4b1d9",
   "metadata": {},
   "source": [
    "### 1.1 Degree Centrality\n",
    "\n",
    "* **Definition:** Number of direct connections (edges) a node has.\n",
    "\n",
    "* **Interpretation in KG:** Entities with more connections are often more relevant or widely linked.\n",
    "\n",
    "* **Formula:**\n",
    "\n",
    "  $$\n",
    "  C_D(v) = \\frac{\\text{deg}(v)}{|V|-1}\n",
    "  $$\n",
    "\n",
    "* **Example:**\n"
   ]
  },
  {
   "cell_type": "code",
   "execution_count": 1,
   "id": "9b0eb4ef",
   "metadata": {},
   "outputs": [
    {
     "data": {
      "text/plain": [
       "{'John': 0.3333333333333333,\n",
       " 'AcmeCorp': 1.0,\n",
       " 'Caleb': 0.3333333333333333,\n",
       " 'Esther': 0.3333333333333333}"
      ]
     },
     "execution_count": 1,
     "metadata": {},
     "output_type": "execute_result"
    }
   ],
   "source": [
    "import networkx as nx\n",
    "G = nx.Graph()\n",
    "G.add_edges_from([(\"John\", \"AcmeCorp\"), (\"Caleb\", \"AcmeCorp\"), (\"Esther\", \"AcmeCorp\")])\n",
    "nx.degree_centrality(G)"
   ]
  },
  {
   "cell_type": "markdown",
   "metadata": {},
   "source": [
    "\n",
    "* **Use Cases:**\n",
    "\n",
    "  * Identifying popular entities in social KGs.\n",
    "  * Detecting heavily linked concepts in academic or enterprise KGs.\n"
   ]
  },
  {
   "cell_type": "markdown",
   "id": "099df52e",
   "metadata": {},
   "source": [
    "### 1.2 Betweenness Centrality\n",
    "\n",
    "* **Definition:** Measures how often a node appears on the shortest paths between other nodes.\n",
    "\n",
    "* **Interpretation in KG:** Nodes with high betweenness act as **bridges** connecting different subgraphs.\n",
    "\n",
    "* **Formula:**\n",
    "\n",
    "  $$\n",
    "  C_B(v) = \\sum_{s \\neq v \\neq t} \\frac{\\sigma_{st}(v)}{\\sigma_{st}}\n",
    "  $$\n",
    "\n",
    "  where:\n",
    "\n",
    "  * $\\sigma_{st}$ = number of shortest paths from `s` to `t`.\n",
    "  * $\\sigma_{st}(v)$ = number of those paths passing through `v`.\n",
    "\n",
    "* **Example:**\n",
    "\n",
    "  ```python\n",
    "  nx.betweenness_centrality(G)\n",
    "  ```\n",
    "\n",
    "* **Use Cases:**\n",
    "\n",
    "  * Identifying entities that connect multiple knowledge domains.\n",
    "  * Detecting key brokers in organizational KGs."
   ]
  },
  {
   "cell_type": "code",
   "execution_count": null,
   "id": "0f674d5c",
   "metadata": {},
   "outputs": [],
   "source": []
  },
  {
   "cell_type": "markdown",
   "id": "67f0eb02",
   "metadata": {},
   "source": [
    "### 1.3 Closeness Centrality\n",
    "\n",
    "* **Definition:** Measures how close a node is to all other nodes in the graph.\n",
    "\n",
    "* **Interpretation in KG:** Entities with high closeness can efficiently \"reach\" other entities.\n",
    "\n",
    "* **Formula:**\n",
    "\n",
    "  $$\n",
    "  C_C(v) = \\frac{1}{\\sum_{u} d(v,u)}\n",
    "  $$\n",
    "\n",
    "* **Example:**\n",
    "\n",
    "  ```python\n",
    "  nx.closeness_centrality(G)\n",
    "  ```\n",
    "\n",
    "* **Use Cases:**\n",
    "\n",
    "  * Ranking entities that are central within a domain.\n",
    "  * Useful in recommendation and influence propagation.\n"
   ]
  },
  {
   "cell_type": "code",
   "execution_count": null,
   "id": "ef36c600",
   "metadata": {},
   "outputs": [],
   "source": []
  },
  {
   "cell_type": "markdown",
   "id": "9387f03a",
   "metadata": {},
   "source": [
    "### 1.4 Eigenvector Centrality\n",
    "\n",
    "* **Definition:** A node is important if it is connected to other important nodes.\n",
    "\n",
    "* **Interpretation in KG:** Captures influence through association.\n",
    "\n",
    "* **Formula:**\n",
    "\n",
    "  $$\n",
    "  C_E(v) = \\frac{1}{\\lambda} \\sum_{u \\in N(v)} C_E(u)\n",
    "  $$\n",
    "\n",
    "* **Example:**\n",
    "\n",
    "  ```python\n",
    "  nx.eigenvector_centrality(G)\n",
    "  ```\n",
    "\n",
    "* **Use Cases:**\n",
    "\n",
    "  * Identifying influential entities in citation or collaboration KGs.\n",
    "  * Recognizing authority nodes in enterprise knowledge graphs.\n"
   ]
  },
  {
   "cell_type": "code",
   "execution_count": null,
   "id": "8ac4ce94",
   "metadata": {},
   "outputs": [],
   "source": []
  },
  {
   "cell_type": "markdown",
   "id": "dbfcabf3",
   "metadata": {},
   "source": [
    "## 2. Connectivity Metrics\n",
    "\n",
    "These metrics describe how well the KG is connected.\n",
    "\n",
    "### 2.1 Graph Density\n",
    "\n",
    "* **Definition:** Measures how many edges exist compared to the maximum possible.\n",
    "\n",
    "* **Formula:**\n",
    "\n",
    "  $$\n",
    "  \\text{Density} = \\frac{2 \\times |E|}{|V| \\times (|V|-1)}\n",
    "  $$\n",
    "\n",
    "* **Example:**\n",
    "\n",
    "  ```python\n",
    "  nx.density(G)\n",
    "  ```\n",
    "\n",
    "* **Use Case:** Detecting sparsity in a KG to assess completeness."
   ]
  },
  {
   "cell_type": "code",
   "execution_count": null,
   "id": "1448487a",
   "metadata": {},
   "outputs": [],
   "source": []
  },
  {
   "cell_type": "markdown",
   "id": "da6fa4c2",
   "metadata": {},
   "source": [
    "### 2.2 Connected Components\n",
    "\n",
    "* **Definition:** Groups of nodes where each node is reachable from any other in the group.\n",
    "\n",
    "* **Example:**\n",
    "\n",
    "  ```python\n",
    "  list(nx.connected_components(G))\n",
    "  ```\n",
    "\n",
    "* **Use Case:** Identifying isolated knowledge clusters or disconnected entity groups.\n"
   ]
  },
  {
   "cell_type": "markdown",
   "id": "fc13acd6",
   "metadata": {},
   "source": [
    "### 2.3 Diameter\n",
    "\n",
    "* **Definition:** The longest shortest path between any two nodes.\n",
    "\n",
    "* **Example:**\n",
    "\n",
    "  ```python\n",
    "  nx.diameter(G)\n",
    "  ```\n",
    "\n",
    "* **Use Case:** Measuring \"spread\" in a KG, useful for analyzing graph depth.\n"
   ]
  },
  {
   "cell_type": "code",
   "execution_count": null,
   "id": "7fcb60fd",
   "metadata": {},
   "outputs": [],
   "source": []
  },
  {
   "cell_type": "markdown",
   "id": "f1c1f140",
   "metadata": {},
   "source": [
    "## 3. Clustering and Community Metrics\n",
    "\n",
    "These metrics identify tightly-knit groups of entities.\n",
    "\n",
    "### 3.1 Clustering Coefficient\n",
    "\n",
    "* **Definition:** Measures how likely it is that two neighbors of a node are also connected.\n",
    "\n",
    "* **Example:**\n",
    "\n",
    "  ```python\n",
    "  nx.average_clustering(G)\n",
    "  ```\n",
    "\n",
    "* **Use Case:** Detecting domain-specific clusters in enterprise or research KGs.\n"
   ]
  },
  {
   "cell_type": "markdown",
   "id": "5a9be787",
   "metadata": {},
   "source": [
    "### 3.2 Community Detection (Modularity)\n",
    "\n",
    "* **Definition:** Partitions the graph into communities where nodes are densely connected internally but loosely connected externally.\n",
    "\n",
    "* **Example (Louvain algorithm):**\n",
    "\n",
    "  ```python\n",
    "  import community as community_louvain\n",
    "  partition = community_louvain.best_partition(G)\n",
    "  ```\n",
    "\n",
    "* **Use Case:** Organizing entities into topic-specific subgraphs.\n"
   ]
  },
  {
   "cell_type": "code",
   "execution_count": null,
   "id": "471ecfd0",
   "metadata": {},
   "outputs": [],
   "source": []
  },
  {
   "cell_type": "markdown",
   "id": "10c7329a",
   "metadata": {},
   "source": [
    "## 4. Influence and Ranking Metrics\n",
    "\n",
    "### 4.1 PageRank\n",
    "\n",
    "* **Definition:** Ranks nodes based on link structure (used by Google).\n",
    "\n",
    "* **Example:**\n",
    "\n",
    "  ```python\n",
    "  nx.pagerank(G)\n",
    "  ```\n",
    "\n",
    "* **Use Case:** Ranking influential entities or prioritizing nodes for exploration.\n"
   ]
  },
  {
   "cell_type": "code",
   "execution_count": null,
   "id": "2b53bda6",
   "metadata": {},
   "outputs": [],
   "source": []
  },
  {
   "cell_type": "markdown",
   "id": "7c402bee",
   "metadata": {},
   "source": [
    "### 4.2 HITS (Hubs and Authorities)\n",
    "\n",
    "* **Definition:** Distinguishes between hub nodes (many outgoing links) and authority nodes (heavily referenced).\n",
    "\n",
    "* **Example:**\n",
    "\n",
    "  ```python\n",
    "  nx.hits(G)\n",
    "  ```\n",
    "\n",
    "* **Use Case:** Identifying authoritative concepts or entities in academic KGs.\n"
   ]
  },
  {
   "cell_type": "code",
   "execution_count": null,
   "id": "3aa2585c",
   "metadata": {},
   "outputs": [],
   "source": []
  },
  {
   "cell_type": "markdown",
   "id": "94d3158f",
   "metadata": {},
   "source": [
    "## 5. Structural Metrics\n",
    "\n",
    "### 5.1 Assortativity\n",
    "\n",
    "* **Definition:** Measures if nodes tend to connect to similar nodes.\n",
    "\n",
    "* **Example:**\n",
    "\n",
    "  ```python\n",
    "  nx.degree_assortativity_coefficient(G)\n",
    "  ```\n",
    "\n",
    "* **Use Case:** Detecting homophily in social or organizational KGs.\n"
   ]
  },
  {
   "cell_type": "markdown",
   "id": "2ada8748",
   "metadata": {},
   "source": [
    "### 5.2 Reciprocity (Directed KGs)\n",
    "\n",
    "* **Definition:** Fraction of bidirectional edges.\n",
    "\n",
    "* **Example:**\n",
    "\n",
    "  ```python\n",
    "  nx.reciprocity(G.to_directed())\n",
    "  ```\n",
    "\n",
    "* **Use Case:** Studying bidirectional relationships in collaboration graphs.\n"
   ]
  },
  {
   "cell_type": "code",
   "execution_count": null,
   "id": "078254aa",
   "metadata": {},
   "outputs": [],
   "source": []
  },
  {
   "cell_type": "markdown",
   "id": "2854c5d5",
   "metadata": {},
   "source": [
    "## 6. Summary Table\n",
    "\n",
    "| Metric Type        | Examples                                    | Purpose                                 |\n",
    "| ------------------ | ------------------------------------------- | --------------------------------------- |\n",
    "| Centrality         | Degree, Betweenness, Closeness, Eigenvector | Identify key entities or influencers    |\n",
    "| Connectivity       | Density, Components, Diameter               | Measure graph cohesion and reachability |\n",
    "| Clustering         | Clustering Coefficient, Modularity          | Detect tightly-knit subgroups           |\n",
    "| Influence/Ranking  | PageRank, HITS                              | Rank entity importance                  |\n",
    "| Structural Balance | Assortativity, Reciprocity                  | Analyze relationship patterns           |\n",
    "\n",
    "---\n",
    "\n",
    "### Key Takeaways\n",
    "\n",
    "* **Centrality** is essential for finding key entities in KGs.\n",
    "* **Connectivity metrics** help assess graph completeness and structure.\n",
    "* **Clustering and community detection** enable domain-specific insights.\n",
    "* **Ranking metrics** (PageRank, HITS) extend beyond basic centrality.\n",
    "* **Structural metrics** reveal hidden patterns in relationships."
   ]
  },
  {
   "cell_type": "code",
   "execution_count": null,
   "id": "500695da",
   "metadata": {},
   "outputs": [],
   "source": []
  },
  {
   "cell_type": "markdown",
   "id": "3d1e631b",
   "metadata": {},
   "source": [
    "\n",
    "---\n",
    "### **Week-by-week study outline:**\n",
    "\n",
    "| Week | Topic                                                       |\n",
    "| ---- | ----------------------------------------------------------- |\n",
    "| 1    | Introduction to Knowledge Graphs & Semantic Web             |\n",
    "| 2    | RDF, RDFS, OWL basics & ontology modelling                  |\n",
    "| 3    | Graph Databases & Cypher/SPARQL querying                    |\n",
    "| 4    | KG construction & entity alignment                          |\n",
    "| 5    | KG embeddings & neural representation learning              |\n",
    "| 6    | Reasoning in KGs: Deduction, Induction, Abduction           |\n",
    "| 7    | Applications: Search, QA, enterprise, biomedical            |\n",
    "| 8    | Advanced themes: temporal KGs, integration, research trends |\n",
    "\n",
    "\n",
    "#### **Key References**\n",
    "\n",
    "* Wikipedia: **Knowledge Graph**, **RDF**, **Semantic Triple** ([Wikipedia][11])\n",
    "* Neo4j blog: Principles of knowledge graphs and property graph implementation ([Neo4j][9])\n",
    "* Dataversity: Components and data model context of KGs ([DATAVERSITY][5])\n",
    "* Ontotext: Why KGs matter and their structure ([ontotext.com][22])\n",
    "* Aidan Hogan et al. (2020): \"Knowledge Graphs\" – comprehensive overview ([arXiv][21])\n",
    "* Ji et al. (2020): “A Survey on Knowledge Graphs…” – embeddings, acquisition, applications ([arXiv][19])\n",
    "* Bianchi et al. (2020): KG embeddings and explainability ([arXiv][15])\n",
    "\n",
    "---\n",
    "\n",
    "[1]: https://wordlift.io/blog/en/entity/knowledge-graph/?utm_source=chatgpt.com \"What is a Knowledge Graph? A comprehensive Guide - WordLift Blog\"\n",
    "[2]: https://en.wikipedia.org/wiki/Knowledge_graph?utm_source=chatgpt.com \"Knowledge graph\"\n",
    "[3]: https://web.stanford.edu/class/cs520/2020/notes/What_is_a_Knowledge_Graph.html?utm_source=chatgpt.com \"What is a Knowledge Graph?\"\n",
    "[4]: https://ai.stanford.edu/blog/introduction-to-knowledge-graphs/?utm_source=chatgpt.com \"An Introduction to Knowledge Graphs | SAIL Blog - Stanford AI Lab\"\n",
    "[5]: https://www.dataversity.net/what-is-a-knowledge-graph/?utm_source=chatgpt.com \"What Is a Knowledge Graph? - DATAVERSITY\"\n",
    "[6]: https://www.ibm.com/think/topics/knowledge-graph?utm_source=chatgpt.com \"What Is a Knowledge Graph? | IBM\"\n",
    "[7]: https://www.wired.com/2016/03/doug-lenat-artificial-intelligence-common-sense-engine?utm_source=chatgpt.com \"One Genius' Lonely Crusade to Teach a Computer Common Sense\"\n",
    "[8]: https://en.wikipedia.org/wiki/RDF_Schema?utm_source=chatgpt.com \"RDF Schema\"\n",
    "[9]: https://neo4j.com/blog/knowledge-graph/what-is-knowledge-graph/?utm_source=chatgpt.com \"neo4j.com/blog/knowledge...\"\n",
    "[10]: https://en.wikipedia.org/wiki/Resource_Description_Framework?utm_source=chatgpt.com \"Resource Description Framework\"\n",
    "[11]: https://en.wikipedia.org/wiki/Semantic_triple?utm_source=chatgpt.com \"Semantic triple\"\n",
    "[12]: https://medium.com/stanford-cs224w/knowledge-graph-augmented-natural-language-question-answering-51ede7e2b5c6?utm_source=chatgpt.com \"Knowledge Graph Augmented Natural Language Question Answering\"\n",
    "[13]: https://pub.towardsai.net/graph-neural-networks-for-knowledge-graphs-d26352a4f5e8?utm_source=chatgpt.com \"Graph Neural Networks for Knowledge Graphs - Towards AI\"\n",
    "[14]: https://en.wikipedia.org/wiki/Knowledge_graph_embedding?utm_source=chatgpt.com \"Knowledge graph embedding\"\n",
    "[15]: https://arxiv.org/abs/2004.14843?utm_source=chatgpt.com \"Knowledge Graph Embeddings and Explainable AI\"\n",
    "[16]: https://www.wired.com/story/amazon-alexa-search-for-the-one-perfect-answer?utm_source=chatgpt.com \"Amazon Alexa and the Search for the One Perfect Answer\"\n",
    "[17]: https://www.stardog.com/knowledge-graph/?utm_source=chatgpt.com \"What is a Knowledge Graph | Stardog\"\n",
    "[18]: https://www.leewayhertz.com/knowledge-graph-in-machine-learning/?utm_source=chatgpt.com \"Knowledge graphs in machine learning - LeewayHertz\"\n",
    "[19]: https://arxiv.org/abs/2002.00388?utm_source=chatgpt.com \"A Survey on Knowledge Graphs: Representation, Acquisition and Applications\"\n",
    "[20]: https://arxiv.org/abs/2303.13948?utm_source=chatgpt.com \"Knowledge Graphs: Opportunities and Challenges\"\n",
    "[21]: https://arxiv.org/abs/2003.02320?utm_source=chatgpt.com \"Knowledge Graphs\"\n",
    "[22]: https://www.ontotext.com/knowledgehub/fundamentals/what-is-a-knowledge-graph/?utm_source=chatgpt.com \"What Is a Knowledge Graph? | Ontotext Fundamentals\"\n"
   ]
  },
  {
   "cell_type": "code",
   "execution_count": null,
   "id": "3604ec41",
   "metadata": {},
   "outputs": [],
   "source": []
  }
 ],
 "metadata": {
  "kernelspec": {
   "display_name": "Python 3",
   "language": "python",
   "name": "python3"
  },
  "language_info": {
   "codemirror_mode": {
    "name": "ipython",
    "version": 3
   },
   "file_extension": ".py",
   "mimetype": "text/x-python",
   "name": "python",
   "nbconvert_exporter": "python",
   "pygments_lexer": "ipython3",
   "version": "3.10.12"
  }
 },
 "nbformat": 4,
 "nbformat_minor": 5
}
